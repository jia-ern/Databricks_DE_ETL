{
 "cells": [
  {
   "cell_type": "markdown",
   "metadata": {
    "application/vnd.databricks.v1+cell": {
     "cellMetadata": {},
     "inputWidgets": {},
     "nuid": "ce55a326-b2a5-41ca-a01a-d6a8a40852eb",
     "showTitle": false,
     "title": ""
    }
   },
   "source": [
    "### Deep Clone\n",
    "- Definition: Creates a full, independent copy of the table at the specified point in time.\n",
    "- Storage: Copies all the data and metadata, creating a new storage footprint.\n",
    "- Use Case: Useful when you need a complete, independent backup of a table that will not be affected by changes to the original table.\n",
    "- Performance: Slower compared to shallow clone as it involves copying all data.\n",
    "- `CREATE TABLE deep_clone_table DEEP CLONE original_table;`\n",
    "\n",
    "### Shallow Clone\n",
    "- Definition: Creates a clone that references the original table’s data and metadata. Only metadata is copied, and data is referenced from the original table.\n",
    "- Storage: Minimal additional storage required as it does not copy the data.\n",
    "- Use Case: Ideal for creating quick copies for development, testing, or analysis without duplicating the data.\n",
    "- Performance: Faster compared to deep clone since it involves only metadata operations.\n",
    "- `CREATE TABLE shallow_clone_table SHALLOW CLONE original_table;`"
   ]
  },
  {
   "cell_type": "code",
   "execution_count": 0,
   "metadata": {
    "application/vnd.databricks.v1+cell": {
     "cellMetadata": {
      "byteLimit": 2048000,
      "rowLimit": 10000
     },
     "inputWidgets": {},
     "nuid": "c7e5fc15-aeb0-4253-8f43-ab41d7b118aa",
     "showTitle": true,
     "title": "Set destination database"
    }
   },
   "outputs": [],
   "source": [
    "destination_database_qa = 'qa'\n",
    "destination_database_stag = 'stag'"
   ]
  },
  {
   "cell_type": "code",
   "execution_count": 0,
   "metadata": {
    "application/vnd.databricks.v1+cell": {
     "cellMetadata": {
      "byteLimit": 2048000,
      "rowLimit": 10000
     },
     "inputWidgets": {},
     "nuid": "801a0b75-76f9-424a-85e4-47db985958fd",
     "showTitle": true,
     "title": "Set source data details"
    }
   },
   "outputs": [],
   "source": [
    "# source_database, table_name, enable_replicate \n",
    "tables_to_replicate = [\n",
    "    ['default','azure_data',True],\n",
    "    ['default','azure_finance_data',True],\n",
    "    ['default','azure_product_system_mapping',True],\n",
    "    ['default','cdp_data',True],\n",
    "    ['default','cdp_main',True],\n",
    "    ['default','data_owner',True],\n",
    "    ['default','data_status',True],\n",
    "    ['default','elastic_data',True],\n",
    "    ['default','miscvendor_data',True],\n",
    "    ['default','product_allocation',True],\n",
    "    ['default','product_pillar',True],\n",
    "    ['default','rackspace_data',True],\n",
    "    ['default','raw_azure',True],\n",
    "    ['default','raw_cdp',True],\n",
    "    ['default','raw_elastic',True],\n",
    "    ['default','raw_miscvendor',True],\n",
    "    ['default','raw_rackspace',True],\n",
    "    ['default','raw_rfk',True],\n",
    "    ['default','raw_searchstax',True],\n",
    "    ['default','raw_send',True],\n",
    "    ['default','raw_system_identifier',True],\n",
    "    ['default','rfk_data',True],\n",
    "    ['default','searchstax_data',True],\n",
    "    ['default','send_data',True],\n",
    "    ['default','subscription_cost_type_allocation',False], #\n",
    "    ['default','system_identifier_data',True],\n",
    "    ['default','system_tags_aggregated',True],\n",
    "    ['default','system_tags_aggregated_untagged',True],\n",
    "    ['default','tag_injection',True]\n",
    "]"
   ]
  },
  {
   "cell_type": "code",
   "execution_count": 0,
   "metadata": {
    "application/vnd.databricks.v1+cell": {
     "cellMetadata": {},
     "inputWidgets": {},
     "nuid": "e04b3336-29a5-4098-8ff5-134eb0b667ca",
     "showTitle": true,
     "title": "Replicate data to QA database: Shallow Clone"
    }
   },
   "outputs": [],
   "source": [
    "for source_database, table_name, enable_replicate in tables_to_replicate :\n",
    "    if enable_replicate:\n",
    "        spark.sql(f\"\"\"\n",
    "            CREATE OR REPLACE TABLE {destination_database_qa}.{table_name}\n",
    "            SHALLOW CLONE {source_database}.{table_name}   \n",
    "        \"\"\")"
   ]
  },
  {
   "cell_type": "code",
   "execution_count": 0,
   "metadata": {
    "application/vnd.databricks.v1+cell": {
     "cellMetadata": {
      "byteLimit": 2048000,
      "rowLimit": 10000
     },
     "inputWidgets": {},
     "nuid": "05dbeaad-2b35-4d58-aec3-ce6d153752fc",
     "showTitle": true,
     "title": "Replicate data to Staging database: Deep Clone"
    }
   },
   "outputs": [],
   "source": [
    "for source_database, table_name, enable_replicate in tables_to_replicate :\n",
    "    if enable_replicate:\n",
    "        spark.sql(f\"\"\"\n",
    "            CREATE OR REPLACE TABLE {destination_database_stag}.{table_name}\n",
    "            CLONE {source_database}.{table_name}   \n",
    "        \"\"\")"
   ]
  }
 ],
 "metadata": {
  "application/vnd.databricks.v1+notebook": {
   "dashboards": [],
   "environmentMetadata": null,
   "language": "python",
   "notebookMetadata": {
    "mostRecentlyExecutedCommandWithImplicitDF": {
     "commandId": 454588281159113,
     "dataframes": [
      "_sqldf"
     ]
    },
    "pythonIndentUnit": 4
   },
   "notebookName": "Data Replication - Deep Clone",
   "widgets": {}
  }
 },
 "nbformat": 4,
 "nbformat_minor": 0
}
