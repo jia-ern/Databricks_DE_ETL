{
 "cells": [
  {
   "cell_type": "code",
   "execution_count": 0,
   "metadata": {
    "application/vnd.databricks.v1+cell": {
     "cellMetadata": {},
     "inputWidgets": {},
     "nuid": "df7aca32-2f38-4015-bee1-36d8f53a713b",
     "showTitle": false,
     "title": ""
    }
   },
   "outputs": [],
   "source": [
    "# Source files\n",
    "blob_account_name = \"blob_account_name\"\n",
    "blob_container_name = \"blob_container_name\"\n",
    "blob_relative_path = \"blob_relative_path\"\n",
    "blob_sas_token = dbutils.secrets.get(\"sas_token_name\", \"sastoken\")\n",
    "csv_file =\"csv_file.csv\""
   ]
  },
  {
   "cell_type": "code",
   "execution_count": 0,
   "metadata": {
    "application/vnd.databricks.v1+cell": {
     "cellMetadata": {},
     "inputWidgets": {},
     "nuid": "c14be644-8c86-45b6-97ac-9a53e10081b3",
     "showTitle": false,
     "title": ""
    }
   },
   "outputs": [],
   "source": [
    "wasbs_path = f\"wasbs://{blob_container_name}@{blob_account_name}.blob.core.windows.net/{blob_relative_path}/{csv_file}\"\n",
    "spark.conf.set(f\"fs.azure.sas.{blob_container_name}.{blob_account_name}.blob.core.windows.net\", blob_sas_token)"
   ]
  },
  {
   "cell_type": "code",
   "execution_count": 0,
   "metadata": {
    "application/vnd.databricks.v1+cell": {
     "cellMetadata": {},
     "inputWidgets": {},
     "nuid": "0eca2cd0-2d89-49e2-a1e7-195c456ae99a",
     "showTitle": false,
     "title": ""
    }
   },
   "outputs": [],
   "source": [
    "# Table & View\n",
    "raw_miscvendor = \"raw_miscvendor\"\n",
    "miscvendor_view = \"miscvendor_view\"\n",
    "miscvendor_data = \"miscvendor_data\""
   ]
  },
  {
   "cell_type": "code",
   "execution_count": 0,
   "metadata": {
    "application/vnd.databricks.v1+cell": {
     "cellMetadata": {},
     "inputWidgets": {},
     "nuid": "d6a3df2b-1190-4487-aff5-126a5a10486d",
     "showTitle": false,
     "title": ""
    }
   },
   "outputs": [],
   "source": [
    "# Cache & Create Raw Data from Source files\n",
    "spark.read.csv(wasbs_path, header='true').createOrReplaceTempView(miscvendor_view)\n",
    "spark.sql(f\"\"\"\n",
    "    CREATE OR REPLACE TABLE {raw_miscvendor}\n",
    "    SELECT Index, Vendor_Name, Quote, PO, Quantity, Description, Unit_Price, Start_Date, End_Date, Months, Days, Contract_Unit, Total_Cost, Monthly_Cost, Monthly_Cost_USD, Daily_Cost_USD, sc_system, sc_component, sc_costowner, sc_env, sc_type, sc_region, sc_createdby, sc_provider\n",
    "    FROM {miscvendor_view}\n",
    "\"\"\")"
   ]
  },
  {
   "cell_type": "code",
   "execution_count": 0,
   "metadata": {
    "application/vnd.databricks.v1+cell": {
     "cellMetadata": {},
     "inputWidgets": {},
     "nuid": "088a31e5-a524-4f4f-8019-4c8ef69374ec",
     "showTitle": false,
     "title": ""
    }
   },
   "outputs": [],
   "source": [
    "# Overwrite data\n",
    "\n",
    "spark.sql(f\"\"\"\n",
    "CREATE OR REPLACE TABLE {miscvendor_data}\n",
    "(\n",
    "    SELECT \n",
    "    --System fields\n",
    "    Vendor_Name AS Vendor, \n",
    "    explode(sequence(Start_Date::DATE, End_Date::DATE, interval 1 day)) AS Date, \n",
    "    Daily_Cost_USD::DOUBLE AS AllocationCost,\n",
    "    CASE WHEN Vendor_Name = \"Auth0\" THEN \"Identity\" ELSE NULL END AS System,\n",
    "    --Tag fields\n",
    "    sc_system, sc_component, sc_env, sc_region, sc_type, sc_costowner, sc_createdby, sc_provider\n",
    "    FROM {miscvendor_view}\n",
    "    WHERE Vendor_Name != \"Elastic\"\n",
    ")\n",
    "\"\"\")"
   ]
  },
  {
   "cell_type": "code",
   "execution_count": 0,
   "metadata": {
    "application/vnd.databricks.v1+cell": {
     "cellMetadata": {},
     "inputWidgets": {},
     "nuid": "6bf56d14-1c4a-4a59-bdb1-2b6ec017d182",
     "showTitle": false,
     "title": ""
    }
   },
   "outputs": [],
   "source": [
    "dbutils.notebook.exit(\"OK\")"
   ]
  }
 ],
 "metadata": {
  "application/vnd.databricks.v1+notebook": {
   "dashboards": [],
   "environmentMetadata": null,
   "language": "python",
   "notebookMetadata": {
    "pythonIndentUnit": 4
   },
   "notebookName": "Read ADLS - CSV",
   "widgets": {}
  }
 },
 "nbformat": 4,
 "nbformat_minor": 0
}
