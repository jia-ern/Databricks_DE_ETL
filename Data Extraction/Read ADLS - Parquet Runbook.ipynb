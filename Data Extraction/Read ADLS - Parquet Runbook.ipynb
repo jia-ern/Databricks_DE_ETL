{
 "cells": [
  {
   "cell_type": "code",
   "execution_count": 0,
   "metadata": {
    "application/vnd.databricks.v1+cell": {
     "cellMetadata": {
      "byteLimit": 2048000,
      "rowLimit": 10000
     },
     "inputWidgets": {},
     "nuid": "2fa3b10e-2796-42ad-83c5-0b99b55f94d4",
     "showTitle": false,
     "title": ""
    }
   },
   "outputs": [],
   "source": [
    "# Date Range\n",
    "from datetime import date, timedelta\n",
    "\n",
    "today = date.today()\n",
    "last_month = today.replace(day=1) - timedelta(days=1)"
   ]
  },
  {
   "cell_type": "code",
   "execution_count": 0,
   "metadata": {
    "application/vnd.databricks.v1+cell": {
     "cellMetadata": {
      "byteLimit": 2048000,
      "rowLimit": 10000
     },
     "inputWidgets": {},
     "nuid": "2edcfe6c-8878-4487-b090-386f85ac453c",
     "showTitle": false,
     "title": ""
    }
   },
   "outputs": [],
   "source": [
    "# Notebooks & Parameters\n",
    "azure_data_notebook = \"/Shared/Read ADLS - Parquet\"\n",
    "last_month_parameters = { \"Year\": f\"{last_month.year}\", \n",
    "                          \"Month\": f\"{last_month.month}\" }\n",
    "today_parameters = { \"Year\": f\"{today.year}\", \n",
    "                     \"Month\": f\"{today.month}\" }"
   ]
  },
  {
   "cell_type": "code",
   "execution_count": 0,
   "metadata": {
    "application/vnd.databricks.v1+cell": {
     "cellMetadata": {
      "byteLimit": 2048000,
      "rowLimit": 10000
     },
     "inputWidgets": {},
     "nuid": "e06876da-6aec-4dca-96d8-477739a19187",
     "showTitle": false,
     "title": ""
    }
   },
   "outputs": [],
   "source": [
    "# Azure Data (Last Month)\n",
    "result = dbutils.notebook.run(azure_data_notebook, 0, last_month_parameters)\n",
    "print(f\"Azure Data {last_month_parameters['Year']}-{last_month_parameters['Month']}: {result}\")"
   ]
  },
  {
   "cell_type": "code",
   "execution_count": 0,
   "metadata": {
    "application/vnd.databricks.v1+cell": {
     "cellMetadata": {
      "byteLimit": 2048000,
      "rowLimit": 10000
     },
     "inputWidgets": {},
     "nuid": "86304acf-c19e-45f1-bc0a-11a61d224ccb",
     "showTitle": false,
     "title": ""
    }
   },
   "outputs": [],
   "source": [
    "# Azure Data (Today)\n",
    "result = dbutils.notebook.run(azure_data_notebook, 0, today_parameters)\n",
    "print(f\"Azure Data {today_parameters['Year']}-{today_parameters['Month']}: {result}\")"
   ]
  },
  {
   "cell_type": "code",
   "execution_count": 0,
   "metadata": {
    "application/vnd.databricks.v1+cell": {
     "cellMetadata": {
      "byteLimit": 2048000,
      "rowLimit": 10000
     },
     "inputWidgets": {},
     "nuid": "6da02d13-a1a4-49a8-8f42-e0a009e1710a",
     "showTitle": false,
     "title": ""
    }
   },
   "outputs": [],
   "source": [
    "dbutils.notebook.exit(\"OK\")"
   ]
  }
 ],
 "metadata": {
  "application/vnd.databricks.v1+notebook": {
   "dashboards": [],
   "environmentMetadata": null,
   "language": "python",
   "notebookMetadata": {
    "pythonIndentUnit": 4
   },
   "notebookName": "Read ADLS - Parquet Runbook",
   "widgets": {}
  }
 },
 "nbformat": 4,
 "nbformat_minor": 0
}
