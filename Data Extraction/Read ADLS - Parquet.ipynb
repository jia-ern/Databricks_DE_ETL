{
 "cells": [
  {
   "cell_type": "code",
   "execution_count": 0,
   "metadata": {
    "application/vnd.databricks.v1+cell": {
     "cellMetadata": {
      "byteLimit": 2048000,
      "rowLimit": 10000
     },
     "inputWidgets": {},
     "nuid": "cb33af56-c68b-4aa0-90a3-f7d9328f85f6",
     "showTitle": false,
     "title": ""
    }
   },
   "outputs": [],
   "source": [
    "# Parameters: Year, Month\n",
    "dbutils.widgets.text(\"Year\", \"\")\n",
    "dbutils.widgets.text(\"Month\", \"\")\n",
    "\n",
    "year = int(dbutils.widgets.get(\"Year\"))\n",
    "month = int(dbutils.widgets.get(\"Month\"))\n",
    "\n",
    "if year == 0 or month == 0:\n",
    "    dbutils.notebook.exit(\"Idle\")"
   ]
  },
  {
   "cell_type": "code",
   "execution_count": 0,
   "metadata": {
    "application/vnd.databricks.v1+cell": {
     "cellMetadata": {
      "byteLimit": 2048000,
      "rowLimit": 10000
     },
     "inputWidgets": {},
     "nuid": "62be8339-87f5-40d1-b608-b740da604021",
     "showTitle": false,
     "title": ""
    }
   },
   "outputs": [],
   "source": [
    "# Date Range\n",
    "import calendar\n",
    "from datetime import date\n",
    "\n",
    "start_date = date(year, month, 1)\n",
    "end_date = date(year, month, calendar.monthrange(year, month)[1])\n",
    "date_range = f\"{start_date.strftime('%Y%m%d')}-{end_date.strftime('%Y%m%d')}\"\n"
   ]
  },
  {
   "cell_type": "code",
   "execution_count": 0,
   "metadata": {
    "application/vnd.databricks.v1+cell": {
     "cellMetadata": {
      "byteLimit": 2048000,
      "rowLimit": 10000
     },
     "inputWidgets": {},
     "nuid": "6d0cf9d2-cbdd-4be1-b0e3-564517f53d5f",
     "showTitle": false,
     "title": ""
    }
   },
   "outputs": [],
   "source": [
    "# Source files\n",
    "blob_account_name = \"blob_account_name\"\n",
    "blob_container_name = \"blob_container_name\"\n",
    "billingAccounts = \"billingAccounts\"\n",
    "blob_relative_path = f\"providers/Microsoft.Billing/billingAccounts/{billingAccounts}/{date_range}/amortizedcost/\"\n",
    "blob_sas_token = dbutils.secrets.get(\"sas_token_name\", \"accesskey\")"
   ]
  },
  {
   "cell_type": "code",
   "execution_count": 0,
   "metadata": {
    "application/vnd.databricks.v1+cell": {
     "cellMetadata": {
      "byteLimit": 2048000,
      "rowLimit": 10000
     },
     "inputWidgets": {},
     "nuid": "27e628a6-4406-425c-ab85-b592797bc264",
     "showTitle": false,
     "title": ""
    }
   },
   "outputs": [],
   "source": [
    "wasbs_path = f\"abfss://{blob_container_name}@{blob_account_name}.dfs.core.windows.net/{blob_relative_path}\"\n",
    "spark.conf.set(f\"fs.azure.account.key.{blob_account_name}.dfs.core.windows.net\", blob_sas_token)"
   ]
  },
  {
   "cell_type": "code",
   "execution_count": 0,
   "metadata": {
    "application/vnd.databricks.v1+cell": {
     "cellMetadata": {
      "byteLimit": 2048000,
      "rowLimit": 10000
     },
     "inputWidgets": {},
     "nuid": "4b2849d5-6186-4634-92a9-9e3c0da36af1",
     "showTitle": false,
     "title": ""
    }
   },
   "outputs": [],
   "source": [
    "# Table & View\n",
    "raw_azure_view = \"raw_azure_view\"\n",
    "raw_azure = \"raw_azure\"\n",
    "azure_mca_view = \"azure_mca_view\"\n",
    "azure_data = \"azure_data\""
   ]
  },
  {
   "cell_type": "code",
   "execution_count": 0,
   "metadata": {
    "application/vnd.databricks.v1+cell": {
     "cellMetadata": {
      "byteLimit": 2048000,
      "rowLimit": 10000
     },
     "inputWidgets": {},
     "nuid": "9150df59-5e3e-4e6d-bff9-cccdb853eaf2",
     "showTitle": false,
     "title": ""
    }
   },
   "outputs": [],
   "source": [
    "# Get Raw Data from Source files\n",
    "df = spark.sql(f\"\"\"\n",
    "  SELECT * FROM parquet.`{wasbs_path}`\n",
    "\"\"\").select(\"AdditionalInfo\", \"BenefitId\", \"BenefitName\", \"BillingAccountId\", \"BillingAccountName\", \"BillingCurrency\", \"BillingPeriodEndDate\", \"BillingPeriodStartDate\", \"BillingProfileId\", \"BillingProfileName\", \"ChargeType\", \"ConsumedService\", \"CostAllocationRuleName\", \"CostCenter\", \"CostInBillingCurrency\", \"CostInPricingCurrency\", \"CostInUsd\", \"Date\", \"EffectivePrice\", \"ExchangeRateDate\", \"ExchangeRatePricingToBilling\", \"Frequency\", \"InvoiceId\", \"InvoiceSectionId\", \"InvoiceSectionName\", \"IsAzureCreditEligible\", \"Location\", \"MeterCategory\", \"MeterId\", \"MeterName\", \"MeterRegion\", \"MeterSubCategory\", \"PaygCostInBillingCurrency\", \"PaygCostInUsd\", \"PayGPrice\", \"PreviousInvoiceId\", \"PricingCurrency\", \"PricingModel\", \"ProductId\", \"ProductName\", \"ProductOrderId\", \"ProductOrderName\", \"Provider\", \"PublisherId\", \"PublisherName\", \"PublisherType\", \"Quantity\", \"ResellerMpnId\", \"ResellerName\", \"ReservationId\", \"ReservationName\", \"ResourceGroupName\", \"ResourceId\", \"ResourceLocation\", \"ServiceFamily\", \"ServiceInfo1\", \"ServiceInfo2\", \"ServicePeriodEndDate\", \"ServicePeriodStartDate\", \"SubscriptionId\", \"SubscriptionName\", \"Tags\", \"Term\", \"UnitOfMeasure\", \"UnitPrice\")\n",
    "\n",
    "df.createOrReplaceTempView(raw_azure_view)"
   ]
  },
  {
   "cell_type": "code",
   "execution_count": 0,
   "metadata": {
    "application/vnd.databricks.v1+cell": {
     "cellMetadata": {
      "byteLimit": 2048000,
      "rowLimit": 10000
     },
     "inputWidgets": {},
     "nuid": "ae35eb34-923f-4301-8407-ed67b4bc47ee",
     "showTitle": false,
     "title": ""
    }
   },
   "outputs": [],
   "source": [
    "spark.sql(f\"\"\"\n",
    "DELETE FROM {raw_azure} WHERE DATE_TRUNC('month', Date)::DATE = '{start_date}'\n",
    "\"\"\")"
   ]
  },
  {
   "cell_type": "code",
   "execution_count": 0,
   "metadata": {
    "application/vnd.databricks.v1+cell": {
     "cellMetadata": {
      "byteLimit": 2048000,
      "rowLimit": 10000
     },
     "inputWidgets": {},
     "nuid": "38e5ed57-fc8e-460d-ad5d-7b10f9080e7a",
     "showTitle": false,
     "title": ""
    }
   },
   "outputs": [],
   "source": [
    "df.write.format(\"delta\").mode(\"append\").option(\"delta.columnMapping.mode\", \"name\").saveAsTable(raw_azure)"
   ]
  },
  {
   "cell_type": "code",
   "execution_count": 0,
   "metadata": {
    "application/vnd.databricks.v1+cell": {
     "cellMetadata": {
      "byteLimit": 2048000,
      "rowLimit": 10000
     },
     "inputWidgets": {},
     "nuid": "93db9ff2-ece9-44b6-817e-cc27ffae5d6a",
     "showTitle": false,
     "title": ""
    }
   },
   "outputs": [],
   "source": [
    "# Cache Raw Data from Source files\n",
    "spark.sql(f\"\"\"\n",
    "  SELECT SubscriptionId, SubscriptionName, ResourceGroupName AS ResourceGroup, ResourceLocation, Date::DATE AS Date, CostInBillingCurrency::DOUBLE AS CostInBillingCurrency, MeterCategory, PublisherName,\n",
    "  -- Tags\n",
    "  CASE WHEN Tags:sc_system = '' THEN NULL ELSE Tags:sc_system END AS sc_system,\n",
    "  CASE WHEN Tags:sc_component = '' THEN NULL ELSE Tags:sc_component END AS sc_component,\n",
    "  CASE WHEN Tags:sc_env = '' THEN NULL ELSE Tags:sc_env END AS sc_env,\n",
    "  CASE WHEN Tags:sc_region = '' THEN NULL ELSE Tags:sc_region END AS sc_region,\n",
    "  CASE WHEN Tags:sc_type = '' THEN NULL ELSE Tags:sc_type END AS sc_type,\n",
    "  CASE WHEN Tags:sc_costowner = '' THEN NULL ELSE Tags:sc_costowner END AS sc_costowner,\n",
    "  Tags:sc_createdby, Tags:sc_provider, \n",
    "  --\n",
    "  PricingModel, InvoiceSectionName, YEAR(Date) AS Year, MONTH(Date) AS Month\n",
    "  FROM {raw_azure_view}\n",
    "\"\"\").createOrReplaceTempView(azure_mca_view)"
   ]
  },
  {
   "cell_type": "code",
   "execution_count": 0,
   "metadata": {
    "application/vnd.databricks.v1+cell": {
     "cellMetadata": {
      "byteLimit": 2048000,
      "rowLimit": 10000
     },
     "inputWidgets": {},
     "nuid": "f54172ec-0590-4965-8d4a-dd8664964795",
     "showTitle": false,
     "title": ""
    }
   },
   "outputs": [],
   "source": [
    "spark.sql(f\"DELETE FROM {azure_data} WHERE Year = {year} AND Month = {month}\")"
   ]
  },
  {
   "cell_type": "code",
   "execution_count": 0,
   "metadata": {
    "application/vnd.databricks.v1+cell": {
     "cellMetadata": {
      "byteLimit": 2048000,
      "rowLimit": 10000
     },
     "inputWidgets": {},
     "nuid": "4fad1fb3-f9d1-4938-9326-1ced3f2d2487",
     "showTitle": false,
     "title": ""
    }
   },
   "outputs": [],
   "source": [
    "# Append Data\n",
    "spark.sql(f\"\"\"\n",
    "    INSERT INTO {azure_data}\n",
    "    SELECT \n",
    "    --Tags fields\n",
    "    u.SubscriptionId, u.SubscriptionName, u.SubscriptionName AS SubAccount, u.ResourceGroup, u.ResourceLocation,\n",
    "    --System fields\n",
    "    u.Date, u.CostInBillingCurrency AS Cost, u.PricingModel, u.InvoiceSectionName, \n",
    "    scta.CostType AS CostType, apsm.`System Name` AS System, apsm.`Product Name` AS Product, 'Azure' AS Vendor, u.MeterCategory AS VendorService,\n",
    "    u.PublisherName AS Publisher,\n",
    "    --Tags Json Fields\n",
    "    u.sc_system AS sc_system,\n",
    "    u.sc_component AS sc_component,\n",
    "    u.sc_env AS sc_env,\n",
    "    u.sc_region AS sc_region,\n",
    "    u.sc_type AS sc_type,\n",
    "    u.sc_costowner AS sc_costowner,\n",
    "    u.sc_createdby AS sc_createdby,\n",
    "    u.sc_provider AS sc_provider,\n",
    "    u.Year, u.Month\n",
    "    FROM {azure_mca_view} u\n",
    "    LEFT JOIN subscription_cost_type_allocation scta \n",
    "        ON scta.SubscriptionName = u.SubscriptionName AND scta.InvoiceSectionName = u.InvoiceSectionName\n",
    "    LEFT JOIN azure_product_system_mapping apsm \n",
    "        ON apsm.`System Name` = scta.SystemName\n",
    "\"\"\")"
   ]
  },
  {
   "cell_type": "code",
   "execution_count": 0,
   "metadata": {
    "application/vnd.databricks.v1+cell": {
     "cellMetadata": {
      "byteLimit": 2048000,
      "rowLimit": 10000
     },
     "inputWidgets": {},
     "nuid": "015b8ca7-7ebd-4934-905c-29a2407415f3",
     "showTitle": false,
     "title": ""
    }
   },
   "outputs": [],
   "source": [
    "dbutils.notebook.exit(\"OK\")"
   ]
  }
 ],
 "metadata": {
  "application/vnd.databricks.v1+notebook": {
   "dashboards": [],
   "environmentMetadata": null,
   "language": "python",
   "notebookMetadata": {
    "pythonIndentUnit": 4
   },
   "notebookName": "Read ADLS - Parquet",
   "widgets": {
    "Month": {
     "currentValue": "5",
     "nuid": "8389e417-1e99-4d0a-b6fc-1ccfd29e0351",
     "typedWidgetInfo": null,
     "widgetInfo": {
      "widgetType": "text",
      "defaultValue": "",
      "label": null,
      "name": "Month",
      "options": {
       "widgetType": "text",
       "autoCreated": null,
       "validationRegex": null
      }
     }
    },
    "Year": {
     "currentValue": "2024",
     "nuid": "48eef217-5218-4005-827c-d40914edfacc",
     "typedWidgetInfo": null,
     "widgetInfo": {
      "widgetType": "text",
      "defaultValue": "",
      "label": null,
      "name": "Year",
      "options": {
       "widgetType": "text",
       "autoCreated": null,
       "validationRegex": null
      }
     }
    }
   }
  }
 },
 "nbformat": 4,
 "nbformat_minor": 0
}
