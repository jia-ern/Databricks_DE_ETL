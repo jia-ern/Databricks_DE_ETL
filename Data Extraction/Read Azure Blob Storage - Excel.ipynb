{
 "cells": [
  {
   "cell_type": "code",
   "execution_count": 0,
   "metadata": {
    "application/vnd.databricks.v1+cell": {
     "cellMetadata": {
      "byteLimit": 2048000,
      "implicitDf": true,
      "rowLimit": 10000
     },
     "inputWidgets": {},
     "nuid": "a92641a1-c60a-46c6-81fe-31ad5709dc2d",
     "showTitle": false,
     "title": ""
    }
   },
   "outputs": [],
   "source": [
    "blob_account_name = \"blob_account_name\"\n",
    "blob_container_name = \"blob_container_name\"\n",
    "blob_relative_path = \"excel/Tag Injection/\"\n",
    "blob_sas_token = dbutils.secrets.get(\"sas_token_name\", \"sastoken\")\n",
    "tableName = \"taginjection\"\n",
    "mountLoc = \"/mnt/taginjection/excel/\"\n",
    "excel_sheet=\"Azure Tag Injection.xlsx\""
   ]
  },
  {
   "cell_type": "code",
   "execution_count": 0,
   "metadata": {
    "application/vnd.databricks.v1+cell": {
     "cellMetadata": {
      "byteLimit": 2048000,
      "rowLimit": 10000
     },
     "inputWidgets": {},
     "nuid": "485bb75e-8975-4414-b790-7cd35ff94c5f",
     "showTitle": false,
     "title": ""
    }
   },
   "outputs": [],
   "source": [
    "wasbs_path = f\"wasbs://{blob_container_name}@{blob_account_name}.blob.core.windows.net/{blob_relative_path}\"\n",
    "spark.conf.set(f\"fs.azure.sas.{blob_container_name}.{blob_account_name}.blob.core.windows.net\",blob_sas_token)"
   ]
  },
  {
   "cell_type": "code",
   "execution_count": 0,
   "metadata": {
    "application/vnd.databricks.v1+cell": {
     "cellMetadata": {
      "byteLimit": 2048000,
      "rowLimit": 10000
     },
     "inputWidgets": {},
     "nuid": "184f50d6-3119-4744-a807-de677c1fda68",
     "showTitle": false,
     "title": ""
    }
   },
   "outputs": [],
   "source": [
    "from pyspark.sql.functions import lit\n",
    "folder_path = f\"{wasbs_path}\"\n",
    "\n",
    "spark.sql(f\"DROP TABLE IF EXISTS {tableName}\")\n",
    "\n",
    "# Get the list of files and directories in the folder\n",
    "items = dbutils.fs.ls(folder_path)\n",
    "\n",
    "print(folder_path)\n",
    "# Iterate over the items\n",
    "for item in items:\n",
    "    # Get the item path and name\n",
    "    item_path = item.path\n",
    "    item_name = item.name\n",
    "\n",
    "    # dbutil subitem\n",
    "    subItems = dbutils.fs.ls(item_path)\n",
    "\n",
    "    for subItem in subItems:\n",
    "        arraySplit = subItem.path.split(\"/\")\n",
    "        year = arraySplit[5]\n",
    "        month = arraySplit[6]\n",
    "        \n",
    "        dbutils.fs.mount(\n",
    "            source=f\"{subItem.path}/{excel_sheet}\",\n",
    "            mount_point=f\"{mountLoc}\",\n",
    "            extra_configs={\n",
    "                f\"fs.azure.sas.{blob_container_name}.{blob_account_name}.blob.core.windows.net\": blob_sas_token\n",
    "            }\n",
    "        )\n",
    "        \n",
    "        dfsub = spark.read.format(\"com.crealytics.spark.excel\").option(\"header\", \"true\").option(\"inferSchema\", \"true\").option(\"dataAddress\", \"'Azure Tag Injection'!B1:K3000\").load(mountLoc)\n",
    "\n",
    "        dfsub = dfsub.withColumn(\"Year\", lit(year))\n",
    "        dfsub = dfsub.withColumn(\"Month\", lit(month))\n",
    "        \n",
    "        dfsub.write.format(\"delta\").mode(\"append\").option(\"delta.columnMapping.mode\", \"name\").saveAsTable(tableName)\n",
    "\n",
    "        dbutils.fs.unmount(mountLoc)\n"
   ]
  },
  {
   "cell_type": "code",
   "execution_count": 0,
   "metadata": {
    "application/vnd.databricks.v1+cell": {
     "cellMetadata": {
      "byteLimit": 2048000,
      "rowLimit": 10000
     },
     "inputWidgets": {},
     "nuid": "032d07e1-4ed4-4233-a3cf-3631d40439b5",
     "showTitle": false,
     "title": ""
    }
   },
   "outputs": [],
   "source": [
    "dbutils.notebook.exit(\"OK\")"
   ]
  }
 ],
 "metadata": {
  "application/vnd.databricks.v1+notebook": {
   "dashboards": [],
   "environmentMetadata": null,
   "language": "python",
   "notebookMetadata": {
    "mostRecentlyExecutedCommandWithImplicitDF": {
     "commandId": 1877698461303114,
     "dataframes": [
      "_sqldf"
     ]
    },
    "pythonIndentUnit": 4
   },
   "notebookName": "Read Azure Blob Storage - Excel",
   "widgets": {}
  }
 },
 "nbformat": 4,
 "nbformat_minor": 0
}
