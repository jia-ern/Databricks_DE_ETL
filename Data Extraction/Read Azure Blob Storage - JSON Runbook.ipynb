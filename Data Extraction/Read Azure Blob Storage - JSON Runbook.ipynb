{
 "cells": [
  {
   "cell_type": "code",
   "execution_count": 0,
   "metadata": {
    "application/vnd.databricks.v1+cell": {
     "cellMetadata": {
      "byteLimit": 2048000,
      "rowLimit": 10000
     },
     "inputWidgets": {},
     "nuid": "3b2be19c-d20b-4610-8d88-c01a91b2fb0f",
     "showTitle": false,
     "title": ""
    }
   },
   "outputs": [],
   "source": [
    "entitlement_notebook = \"/Read Azure Blob Storage - JSON\"\n",
    "entitlement_staging_parameters = { \"JsonSource\": \"json_stag.json\", \n",
    "                                      \"RawEntitlement\" : \"usages_prod.raw_entitlement_stag\",\n",
    "                                      \"DataEntitlement\" : \"usages_prod.entitlement_data_stag\"}\n",
    "\n",
    "entitlement_production_parameters = { \"JsonSource\": \"json_prod.json\", \n",
    "                                      \"RawEntitlement\" : \"usages_prod.raw_entitlement_prod\",\n",
    "                                      \"DataEntitlement\" : \"usages_prod.entitlement_data_prod\" }"
   ]
  },
  {
   "cell_type": "code",
   "execution_count": 0,
   "metadata": {
    "application/vnd.databricks.v1+cell": {
     "cellMetadata": {
      "byteLimit": 2048000,
      "rowLimit": 10000
     },
     "inputWidgets": {},
     "nuid": "817d338d-8617-4971-9da9-fa5173e7feac",
     "showTitle": false,
     "title": ""
    }
   },
   "outputs": [],
   "source": [
    "# Entitlement Data (Staging)\n",
    "result = dbutils.notebook.run(entitlement_notebook, 0, entitlement_staging_parameters)\n",
    "print(f\"Entitlement Data (Staging): {result}\")"
   ]
  },
  {
   "cell_type": "code",
   "execution_count": 0,
   "metadata": {
    "application/vnd.databricks.v1+cell": {
     "cellMetadata": {
      "byteLimit": 2048000,
      "rowLimit": 10000
     },
     "inputWidgets": {},
     "nuid": "ac202352-0b19-4cfd-8581-5b1c0cbad3d1",
     "showTitle": false,
     "title": ""
    }
   },
   "outputs": [],
   "source": [
    "# Entitlement Data (Production)\n",
    "result = dbutils.notebook.run(entitlement_notebook, 0, entitlement_production_parameters)\n",
    "print(f\"Entitlement Data (Production): {result}\")"
   ]
  },
  {
   "cell_type": "code",
   "execution_count": 0,
   "metadata": {
    "application/vnd.databricks.v1+cell": {
     "cellMetadata": {
      "byteLimit": 2048000,
      "rowLimit": 10000
     },
     "inputWidgets": {},
     "nuid": "cb455ae5-9022-42cd-80a5-d2bff68a51c6",
     "showTitle": false,
     "title": ""
    }
   },
   "outputs": [],
   "source": [
    "dbutils.notebook.exit(\"OK\")"
   ]
  }
 ],
 "metadata": {
  "application/vnd.databricks.v1+notebook": {
   "dashboards": [],
   "environmentMetadata": null,
   "language": "python",
   "notebookMetadata": {
    "pythonIndentUnit": 4
   },
   "notebookName": "Read Azure Blob Storage - JSON Runbook",
   "widgets": {}
  }
 },
 "nbformat": 4,
 "nbformat_minor": 0
}
