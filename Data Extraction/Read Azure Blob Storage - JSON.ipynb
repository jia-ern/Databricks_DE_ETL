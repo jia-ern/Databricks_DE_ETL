{
 "cells": [
  {
   "cell_type": "code",
   "execution_count": 0,
   "metadata": {
    "application/vnd.databricks.v1+cell": {
     "cellMetadata": {
      "byteLimit": 2048000,
      "rowLimit": 10000
     },
     "inputWidgets": {},
     "nuid": "98d9ee10-05f0-4d92-b422-716a9867c629",
     "showTitle": false,
     "title": ""
    }
   },
   "outputs": [],
   "source": [
    "# Parameters: JsonSource\n",
    "dbutils.widgets.text(\"JsonSource\", \"\")\n",
    "dbutils.widgets.text(\"RawEntitlement\", \"\")\n",
    "dbutils.widgets.text(\"DataEntitlement\", \"\")"
   ]
  },
  {
   "cell_type": "code",
   "execution_count": 0,
   "metadata": {
    "application/vnd.databricks.v1+cell": {
     "cellMetadata": {
      "byteLimit": 2048000,
      "rowLimit": 10000
     },
     "inputWidgets": {},
     "nuid": "9569c019-ca44-49d6-af5f-ba1694ac7716",
     "showTitle": false,
     "title": ""
    }
   },
   "outputs": [],
   "source": [
    "# Source files\n",
    "blob_account_name = \"blob_account_name\"\n",
    "blob_container_name = \"blob_container_name\"\n",
    "blob_relative_path =  dbutils.widgets.get(\"JsonSource\")\n",
    "blob_sas_token = dbutils.secrets.get(\"sas_token_name\", \"sastoken\")\n",
    "\n",
    "# Table & View\n",
    "raw_entitlement = dbutils.widgets.get(\"RawEntitlement\")\n",
    "data_entitlement = dbutils.widgets.get(\"DataEntitlement\")\n",
    "entitlement_view = \"entitlement_view\"\n",
    "\n",
    "if not blob_relative_path or not raw_entitlement or not data_entitlement:\n",
    "    dbutils.notebook.exit(\"Idle\")"
   ]
  },
  {
   "cell_type": "code",
   "execution_count": 0,
   "metadata": {
    "application/vnd.databricks.v1+cell": {
     "cellMetadata": {
      "byteLimit": 2048000,
      "rowLimit": 10000
     },
     "inputWidgets": {},
     "nuid": "b7e6c166-8063-4814-9f8e-b18c4ae4691a",
     "showTitle": false,
     "title": ""
    }
   },
   "outputs": [],
   "source": [
    "wasbs_path = f\"wasbs://{blob_container_name}@{blob_account_name}.blob.core.windows.net/{blob_relative_path}\"\n",
    "spark.conf.set(f\"fs.azure.sas.{blob_container_name}.{blob_account_name}.blob.core.windows.net\",blob_sas_token)"
   ]
  },
  {
   "cell_type": "code",
   "execution_count": 0,
   "metadata": {
    "application/vnd.databricks.v1+cell": {
     "cellMetadata": {
      "byteLimit": 2048000,
      "rowLimit": 10000
     },
     "inputWidgets": {},
     "nuid": "f19f2228-2c19-4cd9-8fd8-090586052147",
     "showTitle": false,
     "title": ""
    }
   },
   "outputs": [],
   "source": [
    "# Read data from Json\n",
    "spark.read.json(wasbs_path).createOrReplaceTempView(entitlement_view)"
   ]
  },
  {
   "cell_type": "code",
   "execution_count": 0,
   "metadata": {
    "application/vnd.databricks.v1+cell": {
     "cellMetadata": {
      "byteLimit": 2048000,
      "rowLimit": 10000
     },
     "inputWidgets": {},
     "nuid": "6d6d7562-f602-499e-b9d8-651362a78a21",
     "showTitle": false,
     "title": ""
    }
   },
   "outputs": [],
   "source": [
    "# Write into raw table\n",
    "production_columns = \", editionType\" if blob_relative_path == \"GetAll.json\" else \"\"\n",
    "spark.sql(f\"\"\"\n",
    "    CREATE OR REPLACE TABLE {raw_entitlement}\n",
    "    SELECT accountId, accountName, entitlements, productNames, sellableProductCode, subscriptionId, contractStart, contractEnd\n",
    "    {production_columns}\n",
    "    FROM entitlement_view\n",
    "\"\"\")"
   ]
  },
  {
   "cell_type": "code",
   "execution_count": 0,
   "metadata": {
    "application/vnd.databricks.v1+cell": {
     "cellMetadata": {
      "byteLimit": 2048000,
      "rowLimit": 10000
     },
     "inputWidgets": {},
     "nuid": "e1523115-a6c8-4e5b-a081-6431efc9f015",
     "showTitle": false,
     "title": ""
    }
   },
   "outputs": [],
   "source": [
    "# Forming Data for Entitlement\n",
    "spark.sql(f\"\"\"\n",
    "    SELECT subscriptionId, accountId, accountName, sellableProductCode, \n",
    "    EXPLODE(entitlements) AS entitlements\n",
    "    FROM {entitlement_view} \n",
    "\"\"\").createOrReplaceTempView(entitlement_view)"
   ]
  },
  {
   "cell_type": "code",
   "execution_count": 0,
   "metadata": {
    "application/vnd.databricks.v1+cell": {
     "cellMetadata": {
      "byteLimit": 2048000,
      "rowLimit": 10000
     },
     "inputWidgets": {},
     "nuid": "de1b670c-324d-4ae2-ac14-c64bce91e3c9",
     "showTitle": false,
     "title": ""
    }
   },
   "outputs": [],
   "source": [
    "# Create and Save to Entitlement Data\n",
    "spark.sql(f\"\"\"\n",
    "    CREATE OR REPLACE TABLE {data_entitlement}\n",
    "    SELECT subscriptionId, accountId, accountName, sellableProductCode,\n",
    "    entitlements.startDate::timestamp AS startDate, entitlements.endDate::timestamp AS endDate, entitlements.name AS name, entitlements.metric AS metric, entitlements.quantity::DOUBLE AS quantity, entitlements.periodType AS periodType\n",
    "    FROM {entitlement_view}\n",
    "\"\"\")"
   ]
  },
  {
   "cell_type": "code",
   "execution_count": 0,
   "metadata": {
    "application/vnd.databricks.v1+cell": {
     "cellMetadata": {
      "byteLimit": 2048000,
      "rowLimit": 10000
     },
     "inputWidgets": {},
     "nuid": "8f1f4354-4333-4156-9b5e-3868931d04f5",
     "showTitle": false,
     "title": ""
    }
   },
   "outputs": [],
   "source": [
    "dbutils.notebook.exit(\"OK\")"
   ]
  }
 ],
 "metadata": {
  "application/vnd.databricks.v1+notebook": {
   "dashboards": [],
   "environmentMetadata": null,
   "language": "python",
   "notebookMetadata": {
    "mostRecentlyExecutedCommandWithImplicitDF": {
     "commandId": 2819791904658940,
     "dataframes": [
      "_sqldf"
     ]
    },
    "pythonIndentUnit": 4
   },
   "notebookName": "Read Azure Blob Storage - JSON",
   "widgets": {
    "DataEntitlement": {
     "currentValue": "usages_prod.entitlement_data_prod",
     "nuid": "a1ce28a2-3b8d-4e06-becc-c3c6e9af7663",
     "typedWidgetInfo": null,
     "widgetInfo": {
      "widgetType": "text",
      "defaultValue": "",
      "label": null,
      "name": "DataEntitlement",
      "options": {
       "widgetType": "text",
       "autoCreated": null,
       "validationRegex": null
      }
     }
    },
    "JsonSource": {
     "currentValue": "GetAll.json",
     "nuid": "b76621ff-aa1f-47f6-bcac-6bad32020a7c",
     "typedWidgetInfo": null,
     "widgetInfo": {
      "widgetType": "text",
      "defaultValue": "",
      "label": null,
      "name": "JsonSource",
      "options": {
       "widgetType": "text",
       "autoCreated": null,
       "validationRegex": null
      }
     }
    },
    "RawEntitlement": {
     "currentValue": "usages_prod.raw_entitlement_prod",
     "nuid": "a2ef6084-fc18-4842-812e-14c4ac1e0bdd",
     "typedWidgetInfo": null,
     "widgetInfo": {
      "widgetType": "text",
      "defaultValue": "",
      "label": null,
      "name": "RawEntitlement",
      "options": {
       "widgetType": "text",
       "autoCreated": null,
       "validationRegex": null
      }
     }
    }
   }
  }
 },
 "nbformat": 4,
 "nbformat_minor": 0
}
