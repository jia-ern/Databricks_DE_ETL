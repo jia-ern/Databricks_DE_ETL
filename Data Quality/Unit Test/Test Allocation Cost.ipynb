{
 "cells": [
  {
   "cell_type": "code",
   "execution_count": 0,
   "metadata": {
    "application/vnd.databricks.v1+cell": {
     "cellMetadata": {
      "byteLimit": 2048000,
      "rowLimit": 10000
     },
     "inputWidgets": {},
     "nuid": "345921a5-713d-4bf8-8b8a-4e290881cc59",
     "showTitle": false,
     "title": ""
    }
   },
   "outputs": [],
   "source": [
    "import unittest"
   ]
  },
  {
   "cell_type": "code",
   "execution_count": 0,
   "metadata": {
    "application/vnd.databricks.v1+cell": {
     "cellMetadata": {
      "byteLimit": 2048000,
      "rowLimit": 10000
     },
     "inputWidgets": {},
     "nuid": "a7fd8355-1758-47a3-b970-8ef1fa146099",
     "showTitle": false,
     "title": ""
    }
   },
   "outputs": [],
   "source": [
    "# Arrange\n",
    "from datetime import date, timedelta\n",
    "\n",
    "sum_costs = {\n",
    "    '2023-8': 3407906.87, \n",
    "    '2023-7': 3357881.88, \n",
    "    '2023-6': 5320501.56, \n",
    "    '2023-5': 3684105.72, \n",
    "    '2023-4': 3529240.22, \n",
    "    '2023-3': 3671724.15, \n",
    "    '2023-2': 3441106.94, \n",
    "    '2023-1': 3835808.52, \n",
    "    '2022-9': 3500293.32, \n",
    "    '2022-8': 3544407.12, \n",
    "    '2022-7': 3455565.51, \n",
    "    '2022-6': 3272142.0, \n",
    "    '2022-5': 2996465.29, \n",
    "    '2022-12': 3942270.81, \n",
    "    '2022-11': 4026686.53, \n",
    "    '2022-10': 3911687.97\n",
    "}\n",
    "today = date.today()\n",
    "last_month = today.replace(day=1) - timedelta(days=1)\n",
    "rate = 1\n",
    "raw_azure = \"default.raw_azure\"\n",
    "azure_data = \"default.azure_data\""
   ]
  },
  {
   "cell_type": "code",
   "execution_count": 0,
   "metadata": {
    "application/vnd.databricks.v1+cell": {
     "cellMetadata": {
      "byteLimit": 2048000,
      "rowLimit": 10000
     },
     "inputWidgets": {},
     "nuid": "92cc7884-f39c-47cc-a4fc-b8180fb68b83",
     "showTitle": false,
     "title": ""
    }
   },
   "outputs": [],
   "source": [
    "# Act\n",
    "df = spark.sql(f\"\"\"\n",
    "    SELECT Year || '-' || Month AS YearMonth, ROUND(SUM(Cost), 2) AS SumCost FROM {azure_data}\n",
    "    WHERE Date < '{last_month.year}-{last_month.month}-01'\n",
    "    GROUP BY YearMonth\n",
    "\"\"\")\n",
    "dict_costs = {row.YearMonth : row.SumCost for row in df.collect()}"
   ]
  },
  {
   "cell_type": "code",
   "execution_count": 0,
   "metadata": {
    "application/vnd.databricks.v1+cell": {
     "cellMetadata": {
      "byteLimit": 2048000,
      "rowLimit": 10000
     },
     "inputWidgets": {},
     "nuid": "7ade3fb7-ffed-4000-b88c-e84ea4a0614a",
     "showTitle": false,
     "title": ""
    }
   },
   "outputs": [],
   "source": [
    "# Assert\n",
    "class TestAllocationCost(unittest.TestCase):\n",
    "\n",
    "    def test_sum_cost_equal(self):\n",
    "        for year_month, sum_cost in sum_costs.items():\n",
    "            assert year_month in dict_costs, f\"{year_month} not found in {azure_data}\"\n",
    "            assert sum_cost == dict_costs[f\"{year_month}\"], f\"{year_month} : {sum_cost} not equal in {azure_data}\""
   ]
  },
  {
   "cell_type": "code",
   "execution_count": 0,
   "metadata": {
    "application/vnd.databricks.v1+cell": {
     "cellMetadata": {
      "byteLimit": 2048000,
      "rowLimit": 10000
     },
     "inputWidgets": {},
     "nuid": "3b73d07e-f926-4330-8771-2a1666f69a80",
     "showTitle": false,
     "title": ""
    }
   },
   "outputs": [],
   "source": [
    "# Run Test \n",
    "test_allocation_cost = unittest.TestLoader().loadTestsFromTestCase(TestAllocationCost)\n",
    "suite = unittest.TestSuite([test_allocation_cost])\n",
    "\n",
    "assert unittest.TextTestRunner(verbosity=2).run(suite).wasSuccessful(), \"Test failed. Refer logs\""
   ]
  }
 ],
 "metadata": {
  "application/vnd.databricks.v1+notebook": {
   "dashboards": [],
   "environmentMetadata": null,
   "language": "python",
   "notebookMetadata": {
    "pythonIndentUnit": 4
   },
   "notebookName": "Test Allocation Cost",
   "widgets": {}
  }
 },
 "nbformat": 4,
 "nbformat_minor": 0
}
