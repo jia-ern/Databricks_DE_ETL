{
 "cells": [
  {
   "cell_type": "code",
   "execution_count": 0,
   "metadata": {
    "application/vnd.databricks.v1+cell": {
     "cellMetadata": {
      "byteLimit": 2048000,
      "rowLimit": 10000
     },
     "inputWidgets": {},
     "nuid": "e6d7239c-e2cb-4106-bed3-4259dced635b",
     "showTitle": false,
     "title": ""
    }
   },
   "outputs": [],
   "source": [
    "import unittest"
   ]
  },
  {
   "cell_type": "code",
   "execution_count": 0,
   "metadata": {
    "application/vnd.databricks.v1+cell": {
     "cellMetadata": {
      "byteLimit": 2048000,
      "rowLimit": 10000
     },
     "inputWidgets": {},
     "nuid": "b1f71fe8-5824-47e1-86bb-15adbf5faeb4",
     "showTitle": false,
     "title": ""
    }
   },
   "outputs": [],
   "source": [
    "# Arrange - Tables\n",
    "database = \"default\"\n",
    "tag_override = f\"{database}.tag_override\""
   ]
  },
  {
   "cell_type": "code",
   "execution_count": 0,
   "metadata": {
    "application/vnd.databricks.v1+cell": {
     "cellMetadata": {
      "byteLimit": 2048000,
      "rowLimit": 10000
     },
     "inputWidgets": {},
     "nuid": "62948e42-3740-45f0-9bfa-b05630e34d07",
     "showTitle": false,
     "title": ""
    }
   },
   "outputs": [],
   "source": [
    "# Act\n",
    "tag_override_duplicated_data = spark.sql(f\"\"\"\n",
    "    SELECT SubscriptionName, SubAccount, ResourceGroup, InvoiceSectionName, System, Product, Vendor, sc_system, sc_component, sc_env, sc_region, sc_type, sc_costowner, sc_createdby, sc_provider, AppliedStartDate, AppliedEndDate, EffectiveToDate, EffectiveFromDate, COUNT(*) \n",
    "    FROM {tag_override}\n",
    "    GROUP BY ALL\n",
    "    HAVING COUNT(*) > 1\n",
    "\"\"\")\n",
    "print(tag_override_duplicated_data)"
   ]
  },
  {
   "cell_type": "code",
   "execution_count": 0,
   "metadata": {
    "application/vnd.databricks.v1+cell": {
     "cellMetadata": {
      "byteLimit": 2048000,
      "rowLimit": 10000
     },
     "inputWidgets": {},
     "nuid": "7c4d8277-9b61-4ae5-9641-2016f32c13db",
     "showTitle": false,
     "title": ""
    }
   },
   "outputs": [],
   "source": [
    "duplicated_row_count = tag_override_duplicated_data.count()\n",
    "print(duplicated_row_count)"
   ]
  },
  {
   "cell_type": "code",
   "execution_count": 0,
   "metadata": {
    "application/vnd.databricks.v1+cell": {
     "cellMetadata": {
      "byteLimit": 2048000,
      "rowLimit": 10000
     },
     "inputWidgets": {},
     "nuid": "6d2cb0a1-2671-4241-abdf-e661e8ecbe60",
     "showTitle": false,
     "title": ""
    }
   },
   "outputs": [],
   "source": [
    "# Assert\n",
    "class TestDuplication(unittest.TestCase):\n",
    "    \n",
    "    def test_tag_override_data_duplicated(self):\n",
    "        assert duplicated_row_count == 0, f\"{tag_override} is duplicated\""
   ]
  },
  {
   "cell_type": "code",
   "execution_count": 0,
   "metadata": {
    "application/vnd.databricks.v1+cell": {
     "cellMetadata": {
      "byteLimit": 2048000,
      "rowLimit": 10000
     },
     "inputWidgets": {},
     "nuid": "2b4008df-0b5a-4de7-ba3b-44a1711eafdd",
     "showTitle": false,
     "title": ""
    }
   },
   "outputs": [],
   "source": [
    "# Run Test \n",
    "test_transform = unittest.TestLoader().loadTestsFromTestCase(TestDuplication)\n",
    "\n",
    "suite = unittest.TestSuite([test_transform])\n",
    "\n",
    "assert unittest.TextTestRunner(verbosity=2).run(suite).wasSuccessful(), \"Test failed. Refer logs\""
   ]
  }
 ],
 "metadata": {
  "application/vnd.databricks.v1+notebook": {
   "dashboards": [],
   "environmentMetadata": null,
   "language": "python",
   "notebookMetadata": {
    "mostRecentlyExecutedCommandWithImplicitDF": {
     "commandId": -1,
     "dataframes": [
      "_sqldf"
     ]
    },
    "pythonIndentUnit": 4
   },
   "notebookName": "Test Data Duplication",
   "widgets": {}
  }
 },
 "nbformat": 4,
 "nbformat_minor": 0
}
