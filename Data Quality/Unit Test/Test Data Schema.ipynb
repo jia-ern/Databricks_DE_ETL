{
 "cells": [
  {
   "cell_type": "code",
   "execution_count": 0,
   "metadata": {
    "application/vnd.databricks.v1+cell": {
     "cellMetadata": {},
     "inputWidgets": {},
     "nuid": "6e3af493-104e-4657-9736-7e300842b1b5",
     "showTitle": false,
     "title": ""
    }
   },
   "outputs": [],
   "source": [
    "import unittest"
   ]
  },
  {
   "cell_type": "code",
   "execution_count": 0,
   "metadata": {
    "application/vnd.databricks.v1+cell": {
     "cellMetadata": {},
     "inputWidgets": {},
     "nuid": "ccbb3707-fd76-4f67-92dd-e10c74a1f832",
     "showTitle": false,
     "title": ""
    }
   },
   "outputs": [],
   "source": [
    "# Arrange\n",
    "from datetime import date, timedelta\n",
    "\n",
    "data_types = {\n",
    "  'SubscriptionId' : 'string',\n",
    "  'SubscriptionName' : 'string',\n",
    "  'SubAccount' : 'string',\n",
    "  'ResourceGroup' : 'string',\n",
    "  'ResourceLocation' : 'string',\n",
    "  'Date' : 'date',\n",
    "  'Cost' : 'double',\n",
    "  'PricingModel' : 'string',\n",
    "  'InvoiceSectionName' : 'string',\n",
    "  'CostType' : 'string',\n",
    "  'System' : 'string',\n",
    "  'Product' : 'string',\n",
    "  'Vendor' : 'string',\n",
    "  'VendorService' : 'string',\n",
    "  'Publisher' : 'string',\n",
    "  'sc_system' : 'string',\n",
    "  'sc_component' : 'string',\n",
    "  'sc_env' : 'string',\n",
    "  'sc_region' : 'string',\n",
    "  'sc_type' : 'string',\n",
    "  'sc_costowner' : 'string',\n",
    "  'sc_createdby' : 'string',\n",
    "  'sc_provider' : 'string',\n",
    "  'Year' : 'int',\n",
    "  'Month' : 'int',\n",
    "}\n",
    "all_columns = list(data_types.keys())\n",
    "today = date.today()\n",
    "last_month = today.replace(day=1) - timedelta(days=1)\n",
    "azure_data = \"default.azure_data\""
   ]
  },
  {
   "cell_type": "code",
   "execution_count": 0,
   "metadata": {
    "application/vnd.databricks.v1+cell": {
     "cellMetadata": {},
     "inputWidgets": {},
     "nuid": "c081279a-4374-40f3-acc4-f8ba131ab305",
     "showTitle": false,
     "title": ""
    }
   },
   "outputs": [],
   "source": [
    "assert spark.catalog.tableExists(f\"{azure_data}\"), f\"{azure_data} not found\""
   ]
  },
  {
   "cell_type": "code",
   "execution_count": 0,
   "metadata": {
    "application/vnd.databricks.v1+cell": {
     "cellMetadata": {},
     "inputWidgets": {},
     "nuid": "808676af-42f5-4803-aa34-dd4b0fa863f3",
     "showTitle": false,
     "title": ""
    }
   },
   "outputs": [],
   "source": [
    "# Act\n",
    "df_last_month = spark.sql(f\"\"\"\n",
    "    SELECT * FROM {azure_data}\n",
    "    WHERE YEAR(Date) = {last_month.year} AND MONTH(Date) = {last_month.month} \n",
    "    LIMIT 1\n",
    "\"\"\")\n",
    "\n",
    "df_this_month = spark.sql(f\"\"\"\n",
    "    SELECT * FROM {azure_data}\n",
    "    WHERE YEAR(Date) = {today.year} AND MONTH(Date) = {today.month}\n",
    "    LIMIT 1\n",
    "\"\"\")\n",
    "azure_data_columns = df_this_month.columns"
   ]
  },
  {
   "cell_type": "code",
   "execution_count": 0,
   "metadata": {
    "application/vnd.databricks.v1+cell": {
     "cellMetadata": {},
     "inputWidgets": {},
     "nuid": "38385d20-22af-4a91-bc9c-0d8dee4e9c7e",
     "showTitle": false,
     "title": ""
    }
   },
   "outputs": [],
   "source": [
    "# Assert\n",
    "class TestTable(unittest.TestCase):\n",
    "\n",
    "    def test_column_names_data_types_exist(self):\n",
    "        for column_name, data_type in data_types.items():\n",
    "            self.assertIn(column_name, df_this_month.columns, f\"{column_name} not found in {azure_data}\")\n",
    "            self.assertEqual(data_type, df_this_month.select(column_name).dtypes[0][1], f\"{column_name} : {data_type} not found in {azure_data}\")\n",
    "\n",
    "    def test_columns_not_exist(self):\n",
    "        missing_columns = set(all_columns) - set(azure_data_columns)\n",
    "        assert len(missing_columns) == 0, f\"{azure_data} missing: {missing_columns}\"\n",
    "\n",
    "    def test_extra_columns_exist(self):\n",
    "        extra_columns = set(azure_data_columns) - set(all_columns)\n",
    "        assert len(extra_columns) == 0, f\"{azure_data} extra: {extra_columns}\"\t\t\t"
   ]
  },
  {
   "cell_type": "code",
   "execution_count": 0,
   "metadata": {
    "application/vnd.databricks.v1+cell": {
     "cellMetadata": {},
     "inputWidgets": {},
     "nuid": "174f39cc-7fa4-4dd4-beac-15a7f5e2d2e1",
     "showTitle": false,
     "title": ""
    }
   },
   "outputs": [],
   "source": [
    "# Assert\n",
    "class TestData(unittest.TestCase):\n",
    "\n",
    "    def test_last_month_data_exist(self):\n",
    "        self.assertIsNot(df_last_month.count(), 0, f\"{azure_data} {last_month.year}-{last_month.month} is empty\")\n",
    "    \n",
    "    def test_this_month_data_exist(self):\n",
    "        assert df_this_month.count() != 0, f\"{azure_data} {today.year}-{today.month} is empty\""
   ]
  },
  {
   "cell_type": "code",
   "execution_count": 0,
   "metadata": {
    "application/vnd.databricks.v1+cell": {
     "cellMetadata": {},
     "inputWidgets": {},
     "nuid": "edd81f7f-702f-4a31-879d-c374e8924d91",
     "showTitle": false,
     "title": ""
    }
   },
   "outputs": [],
   "source": [
    "# Run Test \n",
    "test_table = unittest.TestLoader().loadTestsFromTestCase(TestTable)\n",
    "test_data = unittest.TestLoader().loadTestsFromTestCase(TestData)\n",
    "suite = unittest.TestSuite([test_table, test_data])\n",
    "\n",
    "assert unittest.TextTestRunner(verbosity=2).run(suite).wasSuccessful(), \"Test failed. Refer logs\""
   ]
  }
 ],
 "metadata": {
  "application/vnd.databricks.v1+notebook": {
   "dashboards": [],
   "environmentMetadata": null,
   "language": "python",
   "notebookMetadata": {
    "pythonIndentUnit": 4
   },
   "notebookName": "Test Data Schema",
   "widgets": {}
  }
 },
 "nbformat": 4,
 "nbformat_minor": 0
}
