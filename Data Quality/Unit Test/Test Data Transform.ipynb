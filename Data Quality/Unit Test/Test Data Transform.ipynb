{
 "cells": [
  {
   "cell_type": "code",
   "execution_count": 0,
   "metadata": {
    "application/vnd.databricks.v1+cell": {
     "cellMetadata": {},
     "inputWidgets": {},
     "nuid": "437d9898-2cb4-4427-80c7-1a121948bb8f",
     "showTitle": false,
     "title": ""
    }
   },
   "outputs": [],
   "source": [
    "import unittest"
   ]
  },
  {
   "cell_type": "code",
   "execution_count": 0,
   "metadata": {
    "application/vnd.databricks.v1+cell": {
     "cellMetadata": {},
     "inputWidgets": {},
     "nuid": "6724dda4-a790-4f35-b006-2fa609912d3c",
     "showTitle": false,
     "title": ""
    }
   },
   "outputs": [],
   "source": [
    "# Arrange - Date Range\n",
    "import calendar\n",
    "from datetime import date, timedelta\n",
    "\n",
    "yesterday = date.today() - timedelta(days=2)\n",
    "year = yesterday.year\n",
    "month = yesterday.month\n",
    "\n",
    "start_date = date(year, month, 1).replace(day=1)\n",
    "end_date = date(year, month, calendar.monthrange(year, month)[1])\n",
    "date_range = f\"{start_date.strftime('%Y%m%d')}-{end_date.strftime('%Y%m%d')}\"\n",
    "print(start_date)"
   ]
  },
  {
   "cell_type": "code",
   "execution_count": 0,
   "metadata": {
    "application/vnd.databricks.v1+cell": {
     "cellMetadata": {},
     "inputWidgets": {},
     "nuid": "dd379643-8c7a-4dae-83a1-1af63ffb7d06",
     "showTitle": false,
     "title": ""
    }
   },
   "outputs": [],
   "source": [
    "# Arrange - Source files\n",
    "blob_account_name = \"ftksitecoresq4tpdxwsgq3a\"\n",
    "blob_container_name = \"ingestion\"\n",
    "blob_relative_path = f\"providers/Microsoft.Billing/billingAccounts/66b5002e-800e-4fe8-805a-1048ad2ca95b:219d7890-c082-4a34-96c4-6d6929eb8c15_2019-05-31/{date_range}/amortizedcost/\"\n",
    "blob_sas_token = dbutils.secrets.get(\"mca_storage\", \"accesskey\")\n",
    "raw_azure = \"raw_azure\"\n",
    "azure_data = \"azure_data\""
   ]
  },
  {
   "cell_type": "code",
   "execution_count": 0,
   "metadata": {
    "application/vnd.databricks.v1+cell": {
     "cellMetadata": {},
     "inputWidgets": {},
     "nuid": "327fd87b-8f59-47ce-afbc-8ad098323798",
     "showTitle": false,
     "title": ""
    }
   },
   "outputs": [],
   "source": [
    "wasbs_path = f\"abfss://{blob_container_name}@{blob_account_name}.dfs.core.windows.net/{blob_relative_path}\"\n",
    "spark.conf.set(f\"fs.azure.account.key.{blob_account_name}.dfs.core.windows.net\", blob_sas_token)"
   ]
  },
  {
   "cell_type": "code",
   "execution_count": 0,
   "metadata": {
    "application/vnd.databricks.v1+cell": {
     "cellMetadata": {},
     "inputWidgets": {},
     "nuid": "ec6fcf18-f4ad-4a3f-9942-e78e8aa0ecb8",
     "showTitle": false,
     "title": ""
    }
   },
   "outputs": [],
   "source": [
    "# Act\n",
    "source_data = spark.sql(f\"\"\"\n",
    "    SELECT SubscriptionId, SubscriptionName, ResourceGroupName AS ResourceGroup, ResourceLocation, Date::DATE AS Date, CostInBillingCurrency::DOUBLE AS CostInBillingCurrency, PricingModel, InvoiceSectionName, Tags:sc_system, Tags:sc_component, Tags:sc_region, Tags:sc_env, Tags:sc_type, Tags:sc_costowner, Tags:sc_createdby, Tags:sc_provider, MeterCategory, PublisherName\n",
    "    FROM {raw_azure}\n",
    "    WHERE SubscriptionId IS NOT NULL AND Date = '{yesterday.strftime(\"%Y-%m-%d\")}'\n",
    "    AND Tags:sc_system != '' AND Tags:sc_component != '' AND Tags:sc_region != '' AND Tags:sc_env != '' AND Tags:sc_type != '' AND Tags:sc_costowner != '' AND Tags:sc_createdby != '' AND Tags:sc_provider != ''\n",
    "    ORDER BY Date DESC\n",
    "    LIMIT 1\n",
    "\"\"\").first()\n",
    "print(source_data)"
   ]
  },
  {
   "cell_type": "code",
   "execution_count": 0,
   "metadata": {
    "application/vnd.databricks.v1+cell": {
     "cellMetadata": {},
     "inputWidgets": {},
     "nuid": "00d1213e-9a82-450a-81a4-f79c9af877f8",
     "showTitle": false,
     "title": ""
    }
   },
   "outputs": [],
   "source": [
    "destination_data = spark.sql(f\"\"\"\n",
    "    SELECT * FROM {azure_data}\n",
    "    WHERE Year = {source_data.Date.year} AND Month = {source_data.Date.month} AND DAY(Date) = {source_data.Date.day}\n",
    "    AND SubscriptionId = '{source_data.SubscriptionId}' AND SubscriptionName = '{source_data.SubscriptionName}' AND ResourceGroup = '{source_data.ResourceGroup}' AND ResourceLocation = '{source_data.ResourceLocation}' AND Cost = {source_data.CostInBillingCurrency}\n",
    "    AND PricingModel = '{source_data.PricingModel}' AND InvoiceSectionName = '{source_data.InvoiceSectionName}' AND VendorService = '{source_data.MeterCategory}' AND Publisher = '{source_data.PublisherName}'\n",
    "\"\"\").first()\n",
    "print(destination_data)"
   ]
  },
  {
   "cell_type": "code",
   "execution_count": 0,
   "metadata": {
    "application/vnd.databricks.v1+cell": {
     "cellMetadata": {},
     "inputWidgets": {},
     "nuid": "feb8e7e3-cbd7-42a0-943e-8d35bdad1c4d",
     "showTitle": false,
     "title": ""
    }
   },
   "outputs": [],
   "source": [
    "# Assert\n",
    "class TestTransform(unittest.TestCase):\n",
    "    def test_source_data_exist(self):\n",
    "        assert source_data is not None, f\"Source data for {yesterday} is empty\"\n",
    "    \n",
    "    def test_destination_data_exist(self):\n",
    "        assert destination_data is not None, f\"Destination data for {yesterday} is empty\"\n",
    "\n",
    "    def test_source_to_destination_tag_matches(self):\n",
    "        assert source_data.sc_system == destination_data.sc_system, f\"sc_system Source: {source_data.sc_system} not equal to Destination: {destination_data.sc_system}\"\n",
    "        assert source_data.sc_component == destination_data.sc_component, f\"sc_component Source: {source_data.sc_component} not equal to Destination: {destination_data.sc_component}\"\n",
    "        assert source_data.sc_region == destination_data.sc_region, f\"sc_region Source: {source_data.sc_region} not equal to Destination: {destination_data.sc_region}\"\n",
    "        assert source_data.sc_env == destination_data.sc_env, f\"sc_env Source: {source_data.sc_env} not equal to Destination: {destination_data.sc_env}\"\n",
    "        assert source_data.sc_type == destination_data.sc_type, f\"sc_type Source: {source_data.sc_type} not equal to Destination: {destination_data.sc_type}\"\n",
    "        assert source_data.sc_costowner == destination_data.sc_costowner, f\"sc_costowner Source: {source_data.sc_costowner} not equal to Destination: {destination_data.sc_costowner}\"\n",
    "        assert source_data.sc_createdby == destination_data.sc_createdby, f\"sc_createdby Source: {source_data.sc_createdby} not equal to Destination: {destination_data.sc_createdby}\"\n",
    "        assert source_data.sc_provider == destination_data.sc_provider, f\"sc_provider Source: {source_data.sc_provider} not equal to Destination: {destination_data.sc_provider}\"\n",
    "\n",
    "    def test_source_SubscriptionName_to_destination_SubAccount_matches(self):\n",
    "        assert source_data.SubscriptionName == destination_data.SubAccount, f\"SubAccount: {destination_data.SubAccount} not equal to SubcriptionName: {source_data.SubscriptionName}\""
   ]
  },
  {
   "cell_type": "code",
   "execution_count": 0,
   "metadata": {
    "application/vnd.databricks.v1+cell": {
     "cellMetadata": {},
     "inputWidgets": {},
     "nuid": "b0f9cb2e-c79a-4006-98eb-29a2dc7b74c4",
     "showTitle": false,
     "title": ""
    }
   },
   "outputs": [],
   "source": [
    "# Run Test \n",
    "test_transform = unittest.TestLoader().loadTestsFromTestCase(TestTransform)\n",
    "suite = unittest.TestSuite([test_transform])\n",
    "\n",
    "assert unittest.TextTestRunner(verbosity=2).run(suite).wasSuccessful(), \"Test failed. Refer logs\""
   ]
  }
 ],
 "metadata": {
  "application/vnd.databricks.v1+notebook": {
   "dashboards": [],
   "environmentMetadata": null,
   "language": "python",
   "notebookMetadata": {
    "pythonIndentUnit": 4
   },
   "notebookName": "Test Data Transform",
   "widgets": {}
  }
 },
 "nbformat": 4,
 "nbformat_minor": 0
}
