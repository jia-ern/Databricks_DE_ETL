{
 "cells": [
  {
   "cell_type": "code",
   "execution_count": 0,
   "metadata": {
    "application/vnd.databricks.v1+cell": {
     "cellMetadata": {
      "byteLimit": 2048000,
      "rowLimit": 10000
     },
     "inputWidgets": {},
     "nuid": "19ade2dd-5b4b-4f99-aaf2-686c1d267dc5",
     "showTitle": false,
     "title": ""
    }
   },
   "outputs": [],
   "source": [
    "import unittest"
   ]
  },
  {
   "cell_type": "code",
   "execution_count": 0,
   "metadata": {
    "application/vnd.databricks.v1+cell": {
     "cellMetadata": {
      "byteLimit": 2048000,
      "rowLimit": 10000
     },
     "inputWidgets": {},
     "nuid": "a18e7031-19e9-46f2-aa59-2a335392f93d",
     "showTitle": false,
     "title": ""
    }
   },
   "outputs": [],
   "source": [
    "# Arrange\n",
    "all_pricing_model = ['OnDemand', 'Low Priority', 'Reservation', 'Spot']\n",
    "all_vendor = [\"Azure\"]\n",
    "all_cost_type = [None, 'Internal', 'External']\n",
    "all_system = [None, 'Components', 'Content Hub', 'DevOps', 'ET', 'Elastic Stack', 'Experience Edge', 'Four51', 'Identity', 'Infrastructure', 'Kubernetes', 'Managed Cloud', 'Media Management', 'Mesh', 'Networking', 'Observability', 'OrderCloud', 'PSS', 'Platform', 'Platform System', 'Portal', 'Redis', 'SXP', 'Sales', 'Sandbox Portal', 'Technical Marketing', 'Training', 'XMCloud']\n",
    "all_product = [None, 'Product Team', 'OrderCloud', 'Managed Cloud', 'Content Hub', 'XMCloud', 'Non-R&D', 'Experience Edge', 'EPS', 'SXP', 'CH XMCloud Shared']\n",
    "\n",
    "azure_data = \"default.azure_data\""
   ]
  },
  {
   "cell_type": "code",
   "execution_count": 0,
   "metadata": {
    "application/vnd.databricks.v1+cell": {
     "cellMetadata": {
      "byteLimit": 2048000,
      "rowLimit": 10000
     },
     "inputWidgets": {},
     "nuid": "0f6547ea-a8cc-4fc8-9702-041c8a5cf35f",
     "showTitle": false,
     "title": ""
    }
   },
   "outputs": [],
   "source": [
    "# Act\n",
    "df = spark.sql(f\"SELECT DISTINCT(PricingModel) FROM {azure_data} ORDER BY PricingModel\")\n",
    "pricing_models = [row[\"PricingModel\"] for row in df.collect()]\n",
    "print(pricing_models)\n",
    "\n",
    "df = spark.sql(f\"SELECT DISTINCT(Vendor) FROM {azure_data} ORDER BY Vendor\")\n",
    "vendors = [row[\"Vendor\"] for row in df.collect()]\n",
    "print(vendors)\n",
    "\n",
    "df = spark.sql(f\"SELECT DISTINCT(CostType) FROM {azure_data} ORDER BY CostType\")\n",
    "cost_types = [row[\"CostType\"] for row in df.collect()]\n",
    "print(cost_types)\n",
    "\n",
    "df = spark.sql(f\"SELECT DISTINCT(System) FROM {azure_data} ORDER BY System\")\n",
    "systems = [row[\"System\"] for row in df.collect()]\n",
    "print(systems)\n",
    "\n",
    "df = spark.sql(f\"SELECT DISTINCT(Product) FROM {azure_data} ORDER BY Product\")\n",
    "products = [row[\"Product\"] for row in df.collect()]\n",
    "print(products)"
   ]
  },
  {
   "cell_type": "code",
   "execution_count": 0,
   "metadata": {
    "application/vnd.databricks.v1+cell": {
     "cellMetadata": {
      "byteLimit": 2048000,
      "rowLimit": 10000
     },
     "inputWidgets": {},
     "nuid": "af5459da-f6a0-42b1-a544-e2d744b47c35",
     "showTitle": false,
     "title": ""
    }
   },
   "outputs": [],
   "source": [
    "# Assert\n",
    "class TestPricingModel(unittest.TestCase):\n",
    "    def test_pricing_models_count_equal(self):\n",
    "        assert len(pricing_models) == len(all_pricing_model), f\"Expected PricingModel count: {len(all_pricing_model)}, got {len(pricing_models)}\" \n",
    "\n",
    "    def test_pricing_models_equal(self):  \n",
    "        assert all(item in all_pricing_model for item in pricing_models), f\"Expected Pricing Model not equal to PricingModel\"\n",
    "\n",
    "    def test_pricing_model_not_exist(self):\n",
    "        missing_pricing_models = set(all_pricing_model) - set(pricing_models)\n",
    "        assert len(missing_pricing_models) == 0, f\"{azure_data} PricingModel missing: {missing_pricing_models}\"\n",
    "    \n",
    "    def test_extra_pricing_model_exist(self):\n",
    "        extra_pricing_models = set(pricing_models) - set(all_pricing_model)\n",
    "        assert len(extra_pricing_models) == 0, f\"{azure_data} PricingModel extra: {extra_pricing_models}\""
   ]
  },
  {
   "cell_type": "code",
   "execution_count": 0,
   "metadata": {
    "application/vnd.databricks.v1+cell": {
     "cellMetadata": {
      "byteLimit": 2048000,
      "rowLimit": 10000
     },
     "inputWidgets": {},
     "nuid": "c253d88d-dc32-4055-a6bc-91db18da2183",
     "showTitle": false,
     "title": ""
    }
   },
   "outputs": [],
   "source": [
    "# Assert\n",
    "class TestVendor(unittest.TestCase):\n",
    "    def test_vendor_count_equal(self):\n",
    "        assert len(vendors) == len(all_vendor), f\"Expected Vendor count: {len(all_vendor)}, got {len(vendors)}\" \n",
    "\n",
    "    def test_vendor_equal(self):  \n",
    "        assert all(item in all_vendor for item in vendors), f\"Expected Vendor not equal to Vendor\"\n",
    "\n",
    "    def test_vendor_not_exist(self):\n",
    "        missing_vendors = set(all_vendor) - set(vendors)\n",
    "        assert len(missing_vendors) == 0, f\"{azure_data} Vendor missing: {missing_vendors}\"\n",
    "    \n",
    "    def test_vendor_exist(self):\n",
    "        extra_vendors = set(vendors) - set(all_vendor)\n",
    "        assert len(extra_vendors) == 0, f\"{azure_data} Vendor extra: {extra_vendors}\""
   ]
  },
  {
   "cell_type": "code",
   "execution_count": 0,
   "metadata": {
    "application/vnd.databricks.v1+cell": {
     "cellMetadata": {
      "byteLimit": 2048000,
      "rowLimit": 10000
     },
     "inputWidgets": {},
     "nuid": "2f5d42b2-ad7b-4204-8269-68c7844730e8",
     "showTitle": false,
     "title": ""
    }
   },
   "outputs": [],
   "source": [
    "# Assert\n",
    "class TestCostType(unittest.TestCase):\n",
    "    def test_cost_type_count_equal(self):\n",
    "        assert len(cost_types) == len(all_cost_type), f\"Expected cost_type count: {len(all_cost_type)}, got {len(cost_types)}\" \n",
    "\n",
    "    def test_cost_type_equal(self):  \n",
    "        assert all(item in all_cost_type for item in cost_types), f\"Expected cost_type not equal to cost_type\"\n",
    "\n",
    "    def test_cost_type_not_exist(self):\n",
    "        missing_cost_types = set(all_cost_type) - set(cost_types)\n",
    "        assert len(missing_cost_types) == 0, f\"{azure_data} cost_type missing: {missing_cost_types}\"\n",
    "    \n",
    "    def test_cost_type_exist(self):\n",
    "        extra_cost_types = set(cost_types) - set(all_cost_type)\n",
    "        assert len(extra_cost_types) == 0, f\"{azure_data} cost_type extra: {extra_cost_types}\""
   ]
  },
  {
   "cell_type": "code",
   "execution_count": 0,
   "metadata": {
    "application/vnd.databricks.v1+cell": {
     "cellMetadata": {
      "byteLimit": 2048000,
      "rowLimit": 10000
     },
     "inputWidgets": {},
     "nuid": "3f9fd02a-1002-46d8-85bc-c9cbfe2d62a7",
     "showTitle": false,
     "title": ""
    }
   },
   "outputs": [],
   "source": [
    "# Assert\n",
    "class TestSystem(unittest.TestCase):\n",
    "    def test_system_count_equal(self):\n",
    "        assert len(systems) == len(all_system), f\"Expected system count: {len(all_system)}, got {len(systems)}\" \n",
    "\n",
    "    def test_system_equal(self):  \n",
    "        assert all(item in all_system for item in systems), f\"Expected system not equal to system\"\n",
    "\n",
    "    def test_system_not_exist(self):\n",
    "        missing_systems = set(all_system) - set(systems)\n",
    "        assert len(missing_systems) == 0, f\"{azure_data} system missing: {missing_systems}\"\n",
    "    \n",
    "    def test_system_exist(self):\n",
    "        extra_systems = set(systems) - set(all_system)\n",
    "        assert len(extra_systems) == 0, f\"{azure_data} system extra: {extra_systems}\""
   ]
  },
  {
   "cell_type": "code",
   "execution_count": 0,
   "metadata": {
    "application/vnd.databricks.v1+cell": {
     "cellMetadata": {
      "byteLimit": 2048000,
      "rowLimit": 10000
     },
     "inputWidgets": {},
     "nuid": "fba8b548-4078-48f9-8561-cf5063147b5a",
     "showTitle": false,
     "title": ""
    }
   },
   "outputs": [],
   "source": [
    "# # Assert\n",
    "class TestProduct(unittest.TestCase):\n",
    "    def test_product_count_equal(self):\n",
    "        assert len(products) == len(all_product), f\"Expected product count: {len(all_product)}, got {len(products)}\" \n",
    "\n",
    "    def test_product_equal(self):  \n",
    "        assert all(item in all_product for item in products), f\"Expected product not equal to product\"\n",
    "\n",
    "    def test_product_not_exist(self):\n",
    "        missing_products = set(all_product) - set(products)\n",
    "        assert len(missing_products) == 0, f\"{azure_data} product missing: {missing_products}\"\n",
    "    \n",
    "    def test_product_exist(self):\n",
    "        extra_products = set(products) - set(all_product)\n",
    "        assert len(extra_products) == 0, f\"{azure_data} product extra: {extra_products}\""
   ]
  },
  {
   "cell_type": "code",
   "execution_count": 0,
   "metadata": {
    "application/vnd.databricks.v1+cell": {
     "cellMetadata": {
      "byteLimit": 2048000,
      "rowLimit": 10000
     },
     "inputWidgets": {},
     "nuid": "d4d6f1b2-5f37-477a-8510-7998dabd1a2c",
     "showTitle": false,
     "title": ""
    }
   },
   "outputs": [],
   "source": [
    "# Run Test \n",
    "test_pricing_model = unittest.TestLoader().loadTestsFromTestCase(TestPricingModel)\n",
    "test_vendor = unittest.TestLoader().loadTestsFromTestCase(TestVendor)\n",
    "test_cost_type = unittest.TestLoader().loadTestsFromTestCase(TestCostType)\n",
    "test_system = unittest.TestLoader().loadTestsFromTestCase(TestSystem)\n",
    "test_product = unittest.TestLoader().loadTestsFromTestCase(TestProduct)\n",
    "suite = unittest.TestSuite([test_pricing_model, test_vendor, test_cost_type, test_system, test_product])\n",
    "\n",
    "assert unittest.TextTestRunner(verbosity=2).run(suite).wasSuccessful(), \"Test failed. Refer logs\""
   ]
  }
 ],
 "metadata": {
  "application/vnd.databricks.v1+notebook": {
   "dashboards": [],
   "environmentMetadata": null,
   "language": "python",
   "notebookMetadata": {
    "pythonIndentUnit": 4
   },
   "notebookName": "Test Data Values",
   "widgets": {}
  }
 },
 "nbformat": 4,
 "nbformat_minor": 0
}
