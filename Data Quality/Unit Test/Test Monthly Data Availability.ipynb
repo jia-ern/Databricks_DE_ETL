{
 "cells": [
  {
   "cell_type": "code",
   "execution_count": 0,
   "metadata": {
    "application/vnd.databricks.v1+cell": {
     "cellMetadata": {
      "byteLimit": 2048000,
      "rowLimit": 10000
     },
     "inputWidgets": {},
     "nuid": "67ec3752-2b6e-4930-b3b0-e9c7298fc86d",
     "showTitle": false,
     "title": ""
    }
   },
   "outputs": [],
   "source": [
    "import unittest\n",
    "\n",
    "raw_table = \"raw_cdp\"\n",
    "data_table = \"cdp_data\"\n",
    "aggregated_table = \"system_tags_aggregated\""
   ]
  },
  {
   "cell_type": "code",
   "execution_count": 0,
   "metadata": {
    "application/vnd.databricks.v1+cell": {
     "cellMetadata": {
      "byteLimit": 2048000,
      "implicitDf": true,
      "rowLimit": 10000
     },
     "inputWidgets": {},
     "nuid": "7927e90a-0876-4e11-bee6-12a329bcf85a",
     "showTitle": false,
     "title": ""
    }
   },
   "outputs": [],
   "source": [
    "# Arrange: Pre-defined date range\n",
    "date_range = spark.sql(f\"\"\"\n",
    "SELECT DATE_TRUNC('month', DATEADD(MONTH, -1, CURRENT_DATE()))::DATE\n",
    "\"\"\").first()[0]\n",
    "print(date_range)"
   ]
  },
  {
   "cell_type": "code",
   "execution_count": 0,
   "metadata": {
    "application/vnd.databricks.v1+cell": {
     "cellMetadata": {
      "byteLimit": 2048000,
      "rowLimit": 10000
     },
     "inputWidgets": {},
     "nuid": "857825ef-e827-468a-a0cc-9917f2500c0c",
     "showTitle": false,
     "title": ""
    }
   },
   "outputs": [],
   "source": [
    "# Act: Raw data availability : Last 1 month\n",
    "raw_data = spark.sql(f\"\"\"\n",
    "SELECT COUNT(*) > 0 AS has_row FROM {raw_table}\n",
    "WHERE DATE_TRUNC('month', bill_billing_period_start_date)::DATE = '{date_range}'\n",
    "\"\"\").first()\n",
    "print(raw_data.has_row)"
   ]
  },
  {
   "cell_type": "code",
   "execution_count": 0,
   "metadata": {
    "application/vnd.databricks.v1+cell": {
     "cellMetadata": {
      "byteLimit": 2048000,
      "rowLimit": 10000
     },
     "inputWidgets": {},
     "nuid": "093ea959-d44d-4cf8-ae36-5ba420e972b0",
     "showTitle": false,
     "title": ""
    }
   },
   "outputs": [],
   "source": [
    "# Act: Data availability : Last 1 month\n",
    "data = spark.sql(f\"\"\" \n",
    "SELECT COUNT(*) > 0 AS has_row FROM {data_table}\n",
    "WHERE DATE_TRUNC('month', Date)::DATE = '{date_range}'\n",
    "\"\"\").first()\n",
    "print(data.has_row)"
   ]
  },
  {
   "cell_type": "code",
   "execution_count": 0,
   "metadata": {
    "application/vnd.databricks.v1+cell": {
     "cellMetadata": {
      "byteLimit": 2048000,
      "rowLimit": 10000
     },
     "inputWidgets": {},
     "nuid": "6279cf1c-e356-49af-821f-33590a60d0ec",
     "showTitle": false,
     "title": ""
    }
   },
   "outputs": [],
   "source": [
    "# Act: Aggregated availability : Last 1 month\n",
    "aggregated = spark.sql(f\"\"\" \n",
    "SELECT COUNT(*) > 0 AS has_row FROM {aggregated_table}\n",
    "WHERE Vendor = 'Amazon' \n",
    "AND System = 'CDP' \n",
    "AND YearMonth = '{date_range}'\n",
    "\"\"\").first()\n",
    "print(aggregated.has_row)"
   ]
  },
  {
   "cell_type": "code",
   "execution_count": 0,
   "metadata": {
    "application/vnd.databricks.v1+cell": {
     "cellMetadata": {
      "byteLimit": 2048000,
      "rowLimit": 10000
     },
     "inputWidgets": {},
     "nuid": "0b31a232-af5a-4ecf-837c-102cafe19207",
     "showTitle": false,
     "title": ""
    }
   },
   "outputs": [],
   "source": [
    "# Act: Data imported : Last 3 month\n",
    "data_imported_list = spark.sql(f\"\"\"\n",
    "SELECT DATE_TRUNC('month', bill_billing_period_start_date)::DATE AS StartDate, \n",
    "COUNT(*) AS row_count FROM {raw_table}\n",
    "GROUP BY StartDate\n",
    "HAVING StartDate >= DATE_TRUNC('month', DATEADD(MONTH, -3, CURRENT_DATE()))::DATE\n",
    "ORDER BY StartDate DESC\n",
    "\"\"\").collect()\n",
    "display(data_imported_list)"
   ]
  },
  {
   "cell_type": "code",
   "execution_count": 0,
   "metadata": {
    "application/vnd.databricks.v1+cell": {
     "cellMetadata": {
      "byteLimit": 2048000,
      "rowLimit": 10000
     },
     "inputWidgets": {},
     "nuid": "2c95000a-8270-40a1-9434-e18e2b7ff846",
     "showTitle": false,
     "title": ""
    }
   },
   "outputs": [],
   "source": [
    "# Act : Latest, Previous month data and average row count\n",
    "latest_row_count = data_imported_list[0][1]\n",
    "previous_row_count = data_imported_list[1][1]\n",
    "average_row_count = round(sum(row[1] for row in data_imported_list) / len(data_imported_list))\n",
    "\n",
    "print(f\"latest_row_count: {latest_row_count}\")\n",
    "print(f\"previous_row_count: {previous_row_count}\")\n",
    "print(f\"average_row_count: {average_row_count}\")"
   ]
  },
  {
   "cell_type": "code",
   "execution_count": 0,
   "metadata": {
    "application/vnd.databricks.v1+cell": {
     "cellMetadata": {
      "byteLimit": 2048000,
      "rowLimit": 10000
     },
     "inputWidgets": {},
     "nuid": "efe1ed3e-7a5a-421e-b327-37b071374373",
     "showTitle": false,
     "title": ""
    }
   },
   "outputs": [],
   "source": [
    "# Act: Threshold\n",
    "threshold = 8 # 8% Average-Growth\n",
    "percentage = 1 + threshold / 100\n",
    "average_row_count_after_threshold = round(average_row_count * percentage)\n",
    "\n",
    "print(f\"threshold: {threshold}%\")\n",
    "print(f\"average_row_count_after_threshold: {average_row_count_after_threshold}\")"
   ]
  },
  {
   "cell_type": "code",
   "execution_count": 0,
   "metadata": {
    "application/vnd.databricks.v1+cell": {
     "cellMetadata": {
      "byteLimit": 2048000,
      "rowLimit": 10000
     },
     "inputWidgets": {},
     "nuid": "df181af4-7227-42bf-87ee-6fce4686c8ad",
     "showTitle": false,
     "title": ""
    }
   },
   "outputs": [],
   "source": [
    "# Assert\n",
    "class TestAvailability(unittest.TestCase):\n",
    "\n",
    "    def test_raw_data_available(self):\n",
    "        assert raw_data.has_row, f\"Raw data for {raw_table} from {date_range} is not available\"\n",
    "\n",
    "    def test_data_available(self):\n",
    "        assert data.has_row, f\"Data for {data_table} from {date_range} is not available\"\n",
    "\n",
    "    def test_aggregated_data_available(self):\n",
    "        assert aggregated.has_row, f\"Aggregated data for {aggregated_table} from {date_range} is not available\"\n"
   ]
  },
  {
   "cell_type": "code",
   "execution_count": 0,
   "metadata": {
    "application/vnd.databricks.v1+cell": {
     "cellMetadata": {
      "byteLimit": 2048000,
      "rowLimit": 10000
     },
     "inputWidgets": {},
     "nuid": "8805ee43-2e31-48bb-a5ef-5ef14e73fe70",
     "showTitle": false,
     "title": ""
    }
   },
   "outputs": [],
   "source": [
    "# Assert\n",
    "class TestImported_Within_Average_Threshold(unittest.TestCase):\n",
    "\n",
    "    def test_average_row_count_after_threshold_is_greater_than_latest_row_count(self):\n",
    "        assert average_row_count_after_threshold > latest_row_count, f\"Average row count growth of latest row count for {raw_table} on {date_range} is not within the average {threshold}% threshold\"\n"
   ]
  },
  {
   "cell_type": "code",
   "execution_count": 0,
   "metadata": {
    "application/vnd.databricks.v1+cell": {
     "cellMetadata": {
      "byteLimit": 2048000,
      "rowLimit": 10000
     },
     "inputWidgets": {},
     "nuid": "4b80bf17-5b76-4190-ab93-9c8cc42403a1",
     "showTitle": false,
     "title": ""
    }
   },
   "outputs": [],
   "source": [
    "# Run Test \n",
    "test_availability = unittest.TestLoader().loadTestsFromTestCase(TestAvailability)\n",
    "test_imported_within_average_threshold = unittest.TestLoader().loadTestsFromTestCase(TestImported_Within_Average_Threshold)\n",
    "\n",
    "suite = unittest.TestSuite([test_availability, test_imported_within_average_threshold])\n",
    "\n",
    "assert unittest.TextTestRunner(verbosity=2).run(suite).wasSuccessful(), \"Test failed. Refer logs\""
   ]
  }
 ],
 "metadata": {
  "application/vnd.databricks.v1+notebook": {
   "dashboards": [],
   "environmentMetadata": null,
   "language": "python",
   "notebookMetadata": {
    "mostRecentlyExecutedCommandWithImplicitDF": {
     "commandId": -1,
     "dataframes": [
      "_sqldf"
     ]
    },
    "pythonIndentUnit": 4
   },
   "notebookName": "Test Monthly Data Availability",
   "widgets": {}
  }
 },
 "nbformat": 4,
 "nbformat_minor": 0
}
