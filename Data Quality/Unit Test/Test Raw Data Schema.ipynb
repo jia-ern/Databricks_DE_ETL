{
 "cells": [
  {
   "cell_type": "code",
   "execution_count": 0,
   "metadata": {
    "application/vnd.databricks.v1+cell": {
     "cellMetadata": {
      "byteLimit": 2048000,
      "rowLimit": 10000
     },
     "inputWidgets": {},
     "nuid": "d85eadd7-41e7-411a-afeb-2d2470e40ebf",
     "showTitle": false,
     "title": ""
    }
   },
   "outputs": [],
   "source": [
    "import unittest"
   ]
  },
  {
   "cell_type": "code",
   "execution_count": 0,
   "metadata": {
    "application/vnd.databricks.v1+cell": {
     "cellMetadata": {
      "byteLimit": 2048000,
      "rowLimit": 10000
     },
     "inputWidgets": {},
     "nuid": "449629f5-7e18-4275-9d9b-6709a9811c5b",
     "showTitle": false,
     "title": ""
    }
   },
   "outputs": [],
   "source": [
    "# Arrange\n",
    "from datetime import date, timedelta\n",
    "\n",
    "data_types = {\n",
    "'AdditionalInfo' : 'string', \n",
    "'BenefitId' : 'string', \n",
    "'BenefitName' : 'string', \n",
    "'BillingAccountId' : 'string', \n",
    "'BillingAccountName' : 'string', \n",
    "'BillingCurrency' : 'string', \n",
    "'BillingPeriodEndDate' : 'timestamp', \n",
    "'BillingPeriodStartDate' : 'timestamp', \n",
    "'BillingProfileId' : 'string', \n",
    "'BillingProfileName' : 'string', \n",
    "'ChargeType' : 'string', \n",
    "'ConsumedService' : 'string', \n",
    "'CostAllocationRuleName' : 'string', \n",
    "'CostCenter' : 'string', \n",
    "'CostInBillingCurrency' : 'decimal(38,18)', \n",
    "'CostInPricingCurrency' : 'decimal(38,18)', \n",
    "'CostInUsd' : 'decimal(38,18)', \n",
    "'Date' : 'timestamp', \n",
    "'EffectivePrice' : 'decimal(38,18)', \n",
    "'ExchangeRateDate' : 'timestamp', \n",
    "'ExchangeRatePricingToBilling' : 'decimal(38,18)', \n",
    "'Frequency' : 'string', \n",
    "'InvoiceId' : 'string', \n",
    "'InvoiceSectionId' : 'string', \n",
    "'InvoiceSectionName' : 'string', \n",
    "'IsAzureCreditEligible' : 'string', \n",
    "'Location' : 'string', \n",
    "'MeterCategory' : 'string', \n",
    "'MeterId' : 'string', \n",
    "'MeterName' : 'string', \n",
    "'MeterRegion' : 'string', \n",
    "'MeterSubCategory' : 'string', \n",
    "'PaygCostInBillingCurrency' : 'decimal(38,18)', \n",
    "'PaygCostInUsd' : 'decimal(38,18)', \n",
    "'PayGPrice' : 'decimal(38,18)', \n",
    "'PreviousInvoiceId' : 'string', \n",
    "'PricingCurrency' : 'string', \n",
    "'PricingModel' : 'string', \n",
    "'ProductId' : 'string', \n",
    "'ProductName' : 'string', \n",
    "'ProductOrderId' : 'string', \n",
    "'ProductOrderName' : 'string', \n",
    "'Provider' : 'string', \n",
    "'PublisherId' : 'string', \n",
    "'PublisherName' : 'string', \n",
    "'PublisherType' : 'string', \n",
    "'Quantity' : 'decimal(38,18)', \n",
    "'ResellerMpnId' : 'string', \n",
    "'ResellerName' : 'string', \n",
    "'ReservationId' : 'string', \n",
    "'ReservationName' : 'string', \n",
    "'ResourceGroupName' : 'string', \n",
    "'ResourceId' : 'string', \n",
    "'ResourceLocation' : 'string', \n",
    "'ServiceFamily' : 'string', \n",
    "'ServiceInfo1' : 'string', \n",
    "'ServiceInfo2' : 'string', \n",
    "'ServicePeriodEndDate' : 'timestamp', \n",
    "'ServicePeriodStartDate' : 'timestamp', \n",
    "'SubscriptionId' : 'string', \n",
    "'SubscriptionName' : 'string', \n",
    "'Tags' : 'string', \n",
    "'Term' : 'string', \n",
    "'UnitOfMeasure' : 'string', \n",
    "'UnitPrice' : 'decimal(38,18)'\n",
    "}\n",
    "all_columns = list(data_types.keys())\n",
    "today = date.today()\n",
    "last_month = today.replace(day=1) - timedelta(days=1)\n",
    "raw_azure = \"raw_azure\""
   ]
  },
  {
   "cell_type": "code",
   "execution_count": 0,
   "metadata": {
    "application/vnd.databricks.v1+cell": {
     "cellMetadata": {
      "byteLimit": 2048000,
      "rowLimit": 10000
     },
     "inputWidgets": {},
     "nuid": "d3d36c46-af2e-4967-8d0e-59cc01b954da",
     "showTitle": false,
     "title": ""
    }
   },
   "outputs": [],
   "source": [
    "assert spark.catalog.tableExists(f\"{raw_azure}\"), f\"{raw_azure} not found\""
   ]
  },
  {
   "cell_type": "code",
   "execution_count": 0,
   "metadata": {
    "application/vnd.databricks.v1+cell": {
     "cellMetadata": {
      "byteLimit": 2048000,
      "rowLimit": 10000
     },
     "inputWidgets": {},
     "nuid": "1acb3a5d-0f63-46b2-bdc8-0ecef2309fe8",
     "showTitle": false,
     "title": ""
    }
   },
   "outputs": [],
   "source": [
    "# Act\n",
    "df_last_month = spark.sql(f\"\"\"\n",
    "    SELECT * FROM {raw_azure}\n",
    "    WHERE YEAR(Date) = {last_month.year} AND MONTH(Date) = {last_month.month} \n",
    "    LIMIT 1\n",
    "\"\"\")\n",
    "\n",
    "df_this_month = spark.sql(f\"\"\"\n",
    "    SELECT * FROM {raw_azure}\n",
    "    WHERE YEAR(Date) = {today.year} AND MONTH(Date) = {today.month}\n",
    "    LIMIT 1\n",
    "\"\"\")\n",
    "raw_azure_columns = df_this_month.columns"
   ]
  },
  {
   "cell_type": "code",
   "execution_count": 0,
   "metadata": {
    "application/vnd.databricks.v1+cell": {
     "cellMetadata": {
      "byteLimit": 2048000,
      "rowLimit": 10000
     },
     "inputWidgets": {},
     "nuid": "75740b45-4058-47d7-a9aa-96094c895df4",
     "showTitle": false,
     "title": ""
    }
   },
   "outputs": [],
   "source": [
    "# Assert\n",
    "class TestTable(unittest.TestCase):\n",
    "\n",
    "    def test_column_names_data_types_exist(self):\n",
    "        for column_name, data_type in data_types.items():\n",
    "            assert column_name in df_this_month.columns, f\"{column_name} not found in {raw_azure}\"\n",
    "            assert data_type == df_this_month.select(column_name).dtypes[0][1], f\"{column_name} : {data_type} not found in {raw_azure}\"\n",
    "\n",
    "    def test_columns_not_exist(self):\n",
    "        missing_columns = set(all_columns) - set(raw_azure_columns)\n",
    "        assert len(missing_columns) == 0, f\"{raw_azure} missing: {missing_columns}\"\n",
    "\n",
    "    def test_extra_columns_exist(self):\n",
    "        extra_columns = set(raw_azure_columns) - set(all_columns)\n",
    "        assert len(extra_columns) == 0, f\"{raw_azure} extra: {extra_columns}\"\t\t\t"
   ]
  },
  {
   "cell_type": "code",
   "execution_count": 0,
   "metadata": {
    "application/vnd.databricks.v1+cell": {
     "cellMetadata": {
      "byteLimit": 2048000,
      "rowLimit": 10000
     },
     "inputWidgets": {},
     "nuid": "e86af480-5e40-47d8-8e06-fc4afd49b6f9",
     "showTitle": false,
     "title": ""
    }
   },
   "outputs": [],
   "source": [
    "# Assert\n",
    "class TestData(unittest.TestCase):\n",
    "\n",
    "    def test_last_month_data_exist(self):\n",
    "        assert df_last_month.count() != 0, f\"{raw_azure} {last_month.year}-{last_month.month} is empty\"\n",
    "    \n",
    "    def test_this_month_data_exist(self):\n",
    "        assert df_this_month.count() != 0, f\"{raw_azure} {today.year}-{today.month} is empty\""
   ]
  },
  {
   "cell_type": "code",
   "execution_count": 0,
   "metadata": {
    "application/vnd.databricks.v1+cell": {
     "cellMetadata": {
      "byteLimit": 2048000,
      "rowLimit": 10000
     },
     "inputWidgets": {},
     "nuid": "fd1f3c1e-857e-4fcd-904c-87a9182fd6af",
     "showTitle": false,
     "title": ""
    }
   },
   "outputs": [],
   "source": [
    "# Run Test \n",
    "test_table = unittest.TestLoader().loadTestsFromTestCase(TestTable)\n",
    "test_data = unittest.TestLoader().loadTestsFromTestCase(TestData)\n",
    "suite = unittest.TestSuite([test_table, test_data])\n",
    "\n",
    "assert unittest.TextTestRunner(verbosity=2).run(suite).wasSuccessful(), \"Test failed. Refer logs\""
   ]
  }
 ],
 "metadata": {
  "application/vnd.databricks.v1+notebook": {
   "dashboards": [],
   "environmentMetadata": null,
   "language": "python",
   "notebookMetadata": {
    "pythonIndentUnit": 4
   },
   "notebookName": "Test Raw Data Schema",
   "widgets": {}
  }
 },
 "nbformat": 4,
 "nbformat_minor": 0
}
