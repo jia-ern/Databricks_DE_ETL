{
 "cells": [
  {
   "cell_type": "code",
   "execution_count": 0,
   "metadata": {
    "application/vnd.databricks.v1+cell": {
     "cellMetadata": {
      "byteLimit": 2048000,
      "rowLimit": 10000
     },
     "inputWidgets": {},
     "nuid": "cbf87698-cecb-4d98-ba05-366cc2b42649",
     "showTitle": false,
     "title": ""
    }
   },
   "outputs": [],
   "source": [
    "import unittest"
   ]
  },
  {
   "cell_type": "code",
   "execution_count": 0,
   "metadata": {
    "application/vnd.databricks.v1+cell": {
     "cellMetadata": {
      "byteLimit": 2048000,
      "rowLimit": 10000
     },
     "inputWidgets": {},
     "nuid": "7baed114-8cad-4f1b-b83e-d1671acd9beb",
     "showTitle": false,
     "title": ""
    }
   },
   "outputs": [],
   "source": [
    "# Arrange - Date Range\n",
    "import calendar\n",
    "from datetime import date, timedelta\n",
    "\n",
    "yesterday = date.today() - timedelta(days=2)\n",
    "year = yesterday.year\n",
    "month = yesterday.month\n",
    "\n",
    "start_date = date(year, month, 1).replace(day=1)\n",
    "end_date = date(year, month, calendar.monthrange(year, month)[1])\n",
    "date_range = f\"{start_date.strftime('%Y%m%d')}-{end_date.strftime('%Y%m%d')}\"\n",
    "print(start_date)"
   ]
  },
  {
   "cell_type": "code",
   "execution_count": 0,
   "metadata": {
    "application/vnd.databricks.v1+cell": {
     "cellMetadata": {
      "byteLimit": 2048000,
      "rowLimit": 10000
     },
     "inputWidgets": {},
     "nuid": "5b27173d-6441-4025-a58e-bc287f9980ec",
     "showTitle": false,
     "title": ""
    }
   },
   "outputs": [],
   "source": [
    "# Arrange - Source files\n",
    "blob_account_name = \"ftksitecoresq4tpdxwsgq3a\"\n",
    "blob_container_name = \"ingestion\"\n",
    "blob_relative_path = f\"providers/Microsoft.Billing/billingAccounts/66b5002e-800e-4fe8-805a-1048ad2ca95b:219d7890-c082-4a34-96c4-6d6929eb8c15_2019-05-31/{date_range}/amortizedcost/\"\n",
    "blob_sas_token = dbutils.secrets.get(\"mca_storage\", \"accesskey\")\n",
    "raw_azure = \"raw_azure\""
   ]
  },
  {
   "cell_type": "code",
   "execution_count": 0,
   "metadata": {
    "application/vnd.databricks.v1+cell": {
     "cellMetadata": {
      "byteLimit": 2048000,
      "rowLimit": 10000
     },
     "inputWidgets": {},
     "nuid": "7cda5581-0c9c-4cc4-89b7-d614d7f90ffb",
     "showTitle": false,
     "title": ""
    }
   },
   "outputs": [],
   "source": [
    "wasbs_path = f\"abfss://{blob_container_name}@{blob_account_name}.dfs.core.windows.net/{blob_relative_path}\"\n",
    "spark.conf.set(f\"fs.azure.account.key.{blob_account_name}.dfs.core.windows.net\", blob_sas_token)"
   ]
  },
  {
   "cell_type": "code",
   "execution_count": 0,
   "metadata": {
    "application/vnd.databricks.v1+cell": {
     "cellMetadata": {
      "byteLimit": 2048000,
      "rowLimit": 10000
     },
     "inputWidgets": {},
     "nuid": "f4649886-1617-42c1-bbd6-29a2b7f0293f",
     "showTitle": false,
     "title": ""
    }
   },
   "outputs": [],
   "source": [
    "# Act\n",
    "source_data = spark.sql(f\"\"\"\n",
    "    SELECT SubscriptionId, SubscriptionName, ResourceGroupName AS ResourceGroup, ResourceLocation, Date::DATE AS Date, CostInBillingCurrency, Tags, PricingModel, InvoiceSectionName, MeterCategory, PublisherName\n",
    "    FROM parquet.`{wasbs_path}`\n",
    "    WHERE SubscriptionId IS NOT NULL AND Date = '{yesterday.strftime(\"%Y-%m-%d\")}'\n",
    "    ORDER BY Date DESC\n",
    "    LIMIT 1\n",
    "\"\"\").first()\n",
    "print(source_data)"
   ]
  },
  {
   "cell_type": "code",
   "execution_count": 0,
   "metadata": {
    "application/vnd.databricks.v1+cell": {
     "cellMetadata": {
      "byteLimit": 2048000,
      "rowLimit": 10000
     },
     "inputWidgets": {},
     "nuid": "4fc6ffbc-682e-4dce-bffc-a028f589c90b",
     "showTitle": false,
     "title": ""
    }
   },
   "outputs": [],
   "source": [
    "destination_data = spark.sql(f\"\"\"\n",
    "    SELECT SubscriptionId, SubscriptionName, ResourceGroupName AS ResourceGroup, ResourceLocation, Date::DATE AS Date, CostInBillingCurrency, Tags, PricingModel, InvoiceSectionName\n",
    "    FROM {raw_azure}\n",
    "    WHERE YEAR(Date) = {source_data.Date.year} AND MONTH(Date) = {source_data.Date.month} AND DAY(Date) = {source_data.Date.day}\n",
    "    AND SubscriptionId = '{source_data.SubscriptionId}' AND SubscriptionName = '{source_data.SubscriptionName}' AND ResourceGroupName = '{source_data.ResourceGroup}' AND ResourceLocation = '{source_data.ResourceLocation}' \n",
    "    AND CostInBillingCurrency = {source_data.CostInBillingCurrency}\n",
    "    AND PricingModel = '{source_data.PricingModel}' AND InvoiceSectionName = '{source_data.InvoiceSectionName}' AND MeterCategory = '{source_data.MeterCategory}' AND PublisherName = '{source_data.PublisherName}'\n",
    "\"\"\").first()\n",
    "print(destination_data)"
   ]
  },
  {
   "cell_type": "code",
   "execution_count": 0,
   "metadata": {
    "application/vnd.databricks.v1+cell": {
     "cellMetadata": {
      "byteLimit": 2048000,
      "rowLimit": 10000
     },
     "inputWidgets": {},
     "nuid": "fe68d20d-bf32-4e48-9a9e-03c4b5a60748",
     "showTitle": false,
     "title": ""
    }
   },
   "outputs": [],
   "source": [
    "# Assert\n",
    "class TestTransform(unittest.TestCase):\n",
    "\n",
    "    def test_source_data_exist(self):\n",
    "        assert source_data is not None, f\"Source data for {yesterday} is empty\"\n",
    "    \n",
    "    def test_destination_data_exist(self):\n",
    "        assert destination_data is not None, f\"Destination data for {yesterday} is empty\""
   ]
  },
  {
   "cell_type": "code",
   "execution_count": 0,
   "metadata": {
    "application/vnd.databricks.v1+cell": {
     "cellMetadata": {
      "byteLimit": 2048000,
      "rowLimit": 10000
     },
     "inputWidgets": {},
     "nuid": "83770100-9616-4f4c-a704-eb74da8629de",
     "showTitle": false,
     "title": ""
    }
   },
   "outputs": [],
   "source": [
    "# Run Test \n",
    "test_transform = unittest.TestLoader().loadTestsFromTestCase(TestTransform)\n",
    "suite = unittest.TestSuite([test_transform])\n",
    "\n",
    "assert unittest.TextTestRunner(verbosity=2).run(suite).wasSuccessful(), \"Test failed. Refer logs\""
   ]
  }
 ],
 "metadata": {
  "application/vnd.databricks.v1+notebook": {
   "dashboards": [],
   "environmentMetadata": null,
   "language": "python",
   "notebookMetadata": {
    "pythonIndentUnit": 4
   },
   "notebookName": "Test Raw Data Transform",
   "widgets": {}
  }
 },
 "nbformat": 4,
 "nbformat_minor": 0
}
