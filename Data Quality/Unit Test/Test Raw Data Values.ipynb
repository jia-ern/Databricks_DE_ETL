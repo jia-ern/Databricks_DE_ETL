{
 "cells": [
  {
   "cell_type": "code",
   "execution_count": 0,
   "metadata": {
    "application/vnd.databricks.v1+cell": {
     "cellMetadata": {
      "byteLimit": 2048000,
      "rowLimit": 10000
     },
     "inputWidgets": {},
     "nuid": "df9d3587-45d8-4ea5-b9f1-0571ba8d01da",
     "showTitle": false,
     "title": ""
    }
   },
   "outputs": [],
   "source": [
    "import unittest"
   ]
  },
  {
   "cell_type": "code",
   "execution_count": 0,
   "metadata": {
    "application/vnd.databricks.v1+cell": {
     "cellMetadata": {
      "byteLimit": 2048000,
      "rowLimit": 10000
     },
     "inputWidgets": {},
     "nuid": "9b291a31-69bd-4f12-8bf2-970b78c045b9",
     "showTitle": false,
     "title": ""
    }
   },
   "outputs": [],
   "source": [
    "# Arrange\n",
    "all_pricing_model = ['Low Priority', 'OnDemand', 'Reservation', 'Spot']\n",
    "all_tags_sc_type = [None, '', 'external', 'fefefef', 'internal', 'r-and-d']\n",
    "all_tags_sc_costowner = [None, '', 'customer', 'internal', 'operations', 'r and d', 'r-and-d', 'sc_costowner']\n",
    "all_tags_sc_createdby = [None, '', 'CLI', 'azurearmengine', 'cdk', 'cicd', 'cloud_formation', 'erd', 'jij', 'karpenter', 'manual', 'mikm', 'olh', 'powershell', 'slazure', 'terraform', 'terraformcloud']\n",
    "\n",
    "raw_azure = \"default.raw_azure\""
   ]
  },
  {
   "cell_type": "code",
   "execution_count": 0,
   "metadata": {
    "application/vnd.databricks.v1+cell": {
     "cellMetadata": {
      "byteLimit": 2048000,
      "rowLimit": 10000
     },
     "inputWidgets": {},
     "nuid": "39d48ad2-ccfc-4c6a-981f-d673ff3b8732",
     "showTitle": false,
     "title": ""
    }
   },
   "outputs": [],
   "source": [
    "# Act\n",
    "df = spark.sql(f\"SELECT DISTINCT(PricingModel) FROM {raw_azure} ORDER BY PricingModel\")\n",
    "pricing_models = [row[\"PricingModel\"] for row in df.collect()]\n",
    "print(pricing_models)\n",
    "\n",
    "df = spark.sql(f\"SELECT DISTINCT(Tags:sc_type) AS sc_type FROM {raw_azure} ORDER BY sc_type\")\n",
    "tags_sc_types = [row[\"sc_type\"] for row in df.collect()]\n",
    "print(tags_sc_types)\n",
    "\n",
    "df = spark.sql(f\"SELECT DISTINCT(Tags:sc_costowner) AS sc_costowner FROM {raw_azure} ORDER BY sc_costowner\")\n",
    "tags_sc_costowners = [row[\"sc_costowner\"] for row in df.collect()]\n",
    "print(tags_sc_costowners)\n",
    "\n",
    "df = spark.sql(f\"SELECT DISTINCT(Tags:sc_createdby) AS sc_createdby FROM {raw_azure} ORDER BY sc_createdby\")\n",
    "tags_sc_createdby = [row[\"sc_createdby\"] for row in df.collect()]\n",
    "print(tags_sc_createdby)\n",
    "\n",
    "df = spark.sql(f\"SELECT COUNT(*) AS RowCount FROM {raw_azure} WHERE LEFT(Tags, 1) != '{{'\").first()\n",
    "tags_without_json_format = df.RowCount\n",
    "print(tags_without_json_format)"
   ]
  },
  {
   "cell_type": "code",
   "execution_count": 0,
   "metadata": {
    "application/vnd.databricks.v1+cell": {
     "cellMetadata": {
      "byteLimit": 2048000,
      "rowLimit": 10000
     },
     "inputWidgets": {},
     "nuid": "d2031dc2-9362-4c84-86c0-7799614ec0f9",
     "showTitle": false,
     "title": ""
    }
   },
   "outputs": [],
   "source": [
    "# Assert\n",
    "class TestPricingModel(unittest.TestCase):\n",
    "    def test_pricing_models_count_equal(self):\n",
    "        assert len(pricing_models) == len(all_pricing_model), f\"Expected PricingModel count: {len(all_pricing_model)}, got {len(pricing_models)}\" \n",
    "\n",
    "    def test_pricing_models_equal(self):  \n",
    "        assert all(item in all_pricing_model for item in pricing_models), f\"Expected Pricing Model not equal to PricingModel\"\n",
    "\n",
    "    def test_pricing_model_not_exist(self):\n",
    "        missing_pricing_models = set(all_pricing_model) - set(pricing_models)\n",
    "        assert len(missing_pricing_models) == 0, f\"{raw_azure} PricingModel missing: {missing_pricing_models}\"\n",
    "    \n",
    "    def test_extra_pricing_model_exist(self):\n",
    "        extra_pricing_models = set(pricing_models) - set(all_pricing_model)\n",
    "        assert len(extra_pricing_models) == 0, f\"{raw_azure} PricingModel extra: {extra_pricing_models}\""
   ]
  },
  {
   "cell_type": "code",
   "execution_count": 0,
   "metadata": {
    "application/vnd.databricks.v1+cell": {
     "cellMetadata": {
      "byteLimit": 2048000,
      "rowLimit": 10000
     },
     "inputWidgets": {},
     "nuid": "1f972139-0029-4d70-b45c-53ed1945deea",
     "showTitle": false,
     "title": ""
    }
   },
   "outputs": [],
   "source": [
    "# Assert\n",
    "class TestTagsScType(unittest.TestCase):\n",
    "    def test_tags_sc_types_count_equal(self):\n",
    "        assert len(tags_sc_types) == len(all_tags_sc_type), f\"Expected tags_sc_type count: {len(all_tags_sc_type)}, got {len(tags_sc_types)}\" \n",
    "\n",
    "    def test_tags_sc_types_equal(self):  \n",
    "        assert all(item in all_tags_sc_type for item in tags_sc_types), f\"Expected tags_sc_type not equal to tags_sc_type\"\n",
    "\n",
    "    def test_tags_sc_type_not_exist(self):\n",
    "        missing_tags_sc_types = set(all_tags_sc_type) - set(tags_sc_types)\n",
    "        assert len(missing_tags_sc_types) == 0, f\"{raw_azure} tags_sc_type missing: {missing_tags_sc_types}\"\n",
    "    \n",
    "    def test_extra_tags_sc_type_exist(self):\n",
    "        extra_tags_sc_types = set(tags_sc_types) - set(all_tags_sc_type)\n",
    "        assert len(extra_tags_sc_types) == 0, f\"{raw_azure} tags_sc_type extra: {extra_tags_sc_types}\""
   ]
  },
  {
   "cell_type": "code",
   "execution_count": 0,
   "metadata": {
    "application/vnd.databricks.v1+cell": {
     "cellMetadata": {
      "byteLimit": 2048000,
      "rowLimit": 10000
     },
     "inputWidgets": {},
     "nuid": "68eca1bb-f711-46a1-bcff-78c4c12f7333",
     "showTitle": false,
     "title": ""
    }
   },
   "outputs": [],
   "source": [
    "# Assert\n",
    "class TestTagsScCostOwner(unittest.TestCase):\n",
    "    def test_tags_sc_costowners_count_equal(self):\n",
    "        assert len(tags_sc_costowners) == len(all_tags_sc_costowner), f\"Expected tags_sc_costowner count: {len(all_tags_sc_costowner)}, got {len(tags_sc_costowners)}\" \n",
    "\n",
    "    def test_tags_sc_costowners_equal(self):  \n",
    "        assert all(item in all_tags_sc_costowner for item in tags_sc_costowners), f\"Expected tags_sc_costowner not equal to tags_sc_costowner\"\n",
    "\n",
    "    def test_tags_sc_costowner_not_exist(self):\n",
    "        missing_tags_sc_costowners = set(all_tags_sc_costowner) - set(tags_sc_costowners)\n",
    "        assert len(missing_tags_sc_costowners) == 0, f\"{raw_azure} tags_sc_costowner missing: {missing_tags_sc_costowners}\"\n",
    "    \n",
    "    def test_extra_tags_sc_costowner_exist(self):\n",
    "        extra_tags_sc_costowners = set(tags_sc_costowners) - set(all_tags_sc_costowner)\n",
    "        assert len(extra_tags_sc_costowners) == 0, f\"{raw_azure} tags_sc_costowner extra: {extra_tags_sc_costowners}\""
   ]
  },
  {
   "cell_type": "code",
   "execution_count": 0,
   "metadata": {
    "application/vnd.databricks.v1+cell": {
     "cellMetadata": {
      "byteLimit": 2048000,
      "rowLimit": 10000
     },
     "inputWidgets": {},
     "nuid": "4c8135e4-1134-4191-b687-9831a8305299",
     "showTitle": false,
     "title": ""
    }
   },
   "outputs": [],
   "source": [
    "# Assert\n",
    "class TestTagsScCreatedBy(unittest.TestCase):\n",
    "    def test_tags_sc_createdbys_count_equal(self):\n",
    "        assert len(tags_sc_createdby) == len(all_tags_sc_createdby), f\"Expected tags_sc_createdby count: {len(all_tags_sc_createdby)}, got {len(tags_sc_createdby)}\" \n",
    "\n",
    "    def test_tags_sc_createdbys_equal(self):  \n",
    "        assert all(item in all_tags_sc_createdby for item in tags_sc_createdby), f\"Expected tags_sc_createdby not equal to tags_sc_createdby\"\n",
    "\n",
    "    def test_tags_sc_createdby_not_exist(self):\n",
    "        missing_tags_sc_createdbys = set(all_tags_sc_createdby) - set(tags_sc_createdby)\n",
    "        assert len(missing_tags_sc_createdbys) == 0, f\"{raw_azure} tags_sc_createdby missing: {missing_tags_sc_createdbys}\"\n",
    "    \n",
    "    def test_extra_tags_sc_createdby_exist(self):\n",
    "        extra_tags_sc_createdbys = set(tags_sc_createdby) - set(all_tags_sc_createdby)\n",
    "        assert len(extra_tags_sc_createdbys) == 0, f\"{raw_azure} tags_sc_createdby extra: {extra_tags_sc_createdbys}\""
   ]
  },
  {
   "cell_type": "code",
   "execution_count": 0,
   "metadata": {
    "application/vnd.databricks.v1+cell": {
     "cellMetadata": {
      "byteLimit": 2048000,
      "rowLimit": 10000
     },
     "inputWidgets": {},
     "nuid": "125d1c0a-a3e8-4260-88a7-68d5b5702311",
     "showTitle": false,
     "title": ""
    }
   },
   "outputs": [],
   "source": [
    "# Assert\n",
    "class TestTagsWithJsonFormat(unittest.TestCase):\n",
    "    def test_all_tags_with_json(self):\n",
    "        assert tags_without_json_format == 0, f\"Expect tags_without_json_format is 0, got {tags_without_json_format}\""
   ]
  },
  {
   "cell_type": "code",
   "execution_count": 0,
   "metadata": {
    "application/vnd.databricks.v1+cell": {
     "cellMetadata": {
      "byteLimit": 2048000,
      "rowLimit": 10000
     },
     "inputWidgets": {},
     "nuid": "8ae47207-d78f-4ede-9b4b-6a982790c7b9",
     "showTitle": false,
     "title": ""
    }
   },
   "outputs": [],
   "source": [
    "# Run Test \n",
    "test_pricing_model = unittest.TestLoader().loadTestsFromTestCase(TestPricingModel)\n",
    "test_tags_sc_type = unittest.TestLoader().loadTestsFromTestCase(TestTagsScType)\n",
    "test_tags_sc_costowner = unittest.TestLoader().loadTestsFromTestCase(TestTagsScCostOwner)\n",
    "test_tags_sc_createdby = unittest.TestLoader().loadTestsFromTestCase(TestTagsScCreatedBy)\n",
    "test_tags_with_json_format = unittest.TestLoader().loadTestsFromTestCase(TestTagsWithJsonFormat)\n",
    "suite = unittest.TestSuite([test_pricing_model, test_tags_sc_type, test_tags_sc_costowner, test_tags_sc_createdby])\n",
    "\n",
    "assert unittest.TextTestRunner(verbosity=2).run(suite).wasSuccessful(), \"Test failed. Refer logs\""
   ]
  }
 ],
 "metadata": {
  "application/vnd.databricks.v1+notebook": {
   "dashboards": [],
   "environmentMetadata": null,
   "language": "python",
   "notebookMetadata": {
    "pythonIndentUnit": 4
   },
   "notebookName": "Test Raw Data Values",
   "widgets": {}
  }
 },
 "nbformat": 4,
 "nbformat_minor": 0
}
