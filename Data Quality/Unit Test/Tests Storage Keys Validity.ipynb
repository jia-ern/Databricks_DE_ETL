{
 "cells": [
  {
   "cell_type": "code",
   "execution_count": 0,
   "metadata": {
    "application/vnd.databricks.v1+cell": {
     "cellMetadata": {
      "byteLimit": 2048000,
      "rowLimit": 10000
     },
     "inputWidgets": {},
     "nuid": "401e4f92-27f7-46d3-9cdd-83afa445a5c2",
     "showTitle": false,
     "title": ""
    }
   },
   "outputs": [],
   "source": [
    "import unittest"
   ]
  },
  {
   "cell_type": "code",
   "execution_count": 0,
   "metadata": {
    "application/vnd.databricks.v1+cell": {
     "cellMetadata": {
      "byteLimit": 2048000,
      "rowLimit": 10000
     },
     "inputWidgets": {},
     "nuid": "21c4a57c-4681-4634-9975-9c05c4639d91",
     "showTitle": false,
     "title": ""
    }
   },
   "outputs": [],
   "source": [
    "# Arrange\n",
    "aws_bucket_name = \"aws_bucket_name\"\n",
    "aws_region_id = \"eu-west-1\"\n",
    "aws_access_key = dbutils.secrets.get(\"aws-storage\", \"aws-access-key\")\n",
    "aws_secret_key = dbutils.secrets.get(\"aws-storage\", \"aws-secret-key\")"
   ]
  },
  {
   "cell_type": "code",
   "execution_count": 0,
   "metadata": {
    "application/vnd.databricks.v1+cell": {
     "cellMetadata": {
      "byteLimit": 2048000,
      "rowLimit": 10000
     },
     "inputWidgets": {},
     "nuid": "6b0534a5-113a-4b8c-9ec1-7a7ccc89ab40",
     "showTitle": false,
     "title": ""
    }
   },
   "outputs": [],
   "source": [
    "aws_s3_path = f\"s3://{aws_bucket_name}/{path}}/cost_and_usage_data_status.parquet\"\n",
    "sc._jsc.hadoopConfiguration().set(\"fs.s3a.access.key\", aws_access_key)\n",
    "sc._jsc.hadoopConfiguration().set(\"fs.s3a.secret.key\", aws_secret_key)\n",
    "sc._jsc.hadoopConfiguration().set(\"fs.s3a.endpoint\", \"s3.\" + aws_region_id + \".amazonaws.com\")"
   ]
  },
  {
   "cell_type": "code",
   "execution_count": 0,
   "metadata": {
    "application/vnd.databricks.v1+cell": {
     "cellMetadata": {
      "byteLimit": 2048000,
      "rowLimit": 10000
     },
     "inputWidgets": {},
     "nuid": "8eba4335-badf-4737-b4bb-a38009f0b8e2",
     "showTitle": false,
     "title": ""
    }
   },
   "outputs": [],
   "source": [
    "cost_and_usage_data = spark.sql(f\"\"\"\n",
    "  SELECT * FROM parquet.`{aws_s3_path}`\n",
    "  \"\"\").first()\n",
    "print(cost_and_usage_data)"
   ]
  },
  {
   "cell_type": "code",
   "execution_count": 0,
   "metadata": {
    "application/vnd.databricks.v1+cell": {
     "cellMetadata": {
      "byteLimit": 2048000,
      "rowLimit": 10000
     },
     "inputWidgets": {},
     "nuid": "4d723b55-87c0-4475-b76f-73bca61789fb",
     "showTitle": false,
     "title": ""
    }
   },
   "outputs": [],
   "source": [
    "# Assert\n",
    "class TestCostAndUsage(unittest.TestCase):\n",
    "\n",
    "    def test_data_status(self):\n",
    "        assert cost_and_usage_data.status, \"Data Status is Empty\""
   ]
  },
  {
   "cell_type": "code",
   "execution_count": 0,
   "metadata": {
    "application/vnd.databricks.v1+cell": {
     "cellMetadata": {
      "byteLimit": 2048000,
      "rowLimit": 10000
     },
     "inputWidgets": {},
     "nuid": "4d475435-a147-446f-8083-2b1efc7d1eb4",
     "showTitle": false,
     "title": ""
    }
   },
   "outputs": [],
   "source": [
    "# Run Test \n",
    "test_aws_storage_keys = unittest.TestLoader().loadTestsFromTestCase(TestCostAndUsage)\n",
    "\n",
    "suite = unittest.TestSuite([test_aws_storage_keys])\n",
    "\n",
    "assert unittest.TextTestRunner(verbosity=2).run(suite).wasSuccessful(), \"Test failed. Refer logs\""
   ]
  }
 ],
 "metadata": {
  "application/vnd.databricks.v1+notebook": {
   "dashboards": [],
   "environmentMetadata": null,
   "language": "python",
   "notebookMetadata": {
    "pythonIndentUnit": 4
   },
   "notebookName": "Tests Storage Keys Validity",
   "widgets": {}
  }
 },
 "nbformat": 4,
 "nbformat_minor": 0
}
